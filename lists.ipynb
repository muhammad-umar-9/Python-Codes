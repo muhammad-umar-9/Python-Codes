{
  "nbformat": 4,
  "nbformat_minor": 0,
  "metadata": {
    "colab": {
      "provenance": [],
      "authorship_tag": "ABX9TyONkWyhq74lKrC+rUrcagxw",
      "include_colab_link": true
    },
    "kernelspec": {
      "name": "python3",
      "display_name": "Python 3"
    },
    "language_info": {
      "name": "python"
    }
  },
  "cells": [
    {
      "cell_type": "markdown",
      "metadata": {
        "id": "view-in-github",
        "colab_type": "text"
      },
      "source": [
        "<a href=\"https://colab.research.google.com/github/muhammad-umar-9/Python-Codes/blob/main/lists.ipynb\" target=\"_parent\"><img src=\"https://colab.research.google.com/assets/colab-badge.svg\" alt=\"Open In Colab\"/></a>"
      ]
    },
    {
      "cell_type": "code",
      "execution_count": null,
      "metadata": {
        "colab": {
          "base_uri": "https://localhost:8080/"
        },
        "id": "8yQBONpNSk5u",
        "outputId": "655114a6-1ec5-4927-b5a0-64a80799960d"
      },
      "outputs": [
        {
          "output_type": "stream",
          "name": "stdout",
          "text": [
            "cooking\n"
          ]
        }
      ],
      "source": [
        "# Assign a list using brackets, with elements separated by commas.\n",
        "x = [\"Now\", \"we\", \"are\", \"cooking\", \"with\", 7, \"ingredients\"]\n",
        "\n",
        "# Print element at index 3.\n",
        "print(x[3])"
      ]
    },
    {
      "cell_type": "code",
      "source": [
        "# Trying to access an index not in list will result in IndexError.\n",
        "#print(x[7])\n",
        "print(x[4])"
      ],
      "metadata": {
        "colab": {
          "base_uri": "https://localhost:8080/"
        },
        "id": "cMxmliNKThi6",
        "outputId": "f831c60e-03e7-44bd-88ed-105ebafecbcf"
      },
      "execution_count": null,
      "outputs": [
        {
          "output_type": "stream",
          "name": "stdout",
          "text": [
            "with\n"
          ]
        }
      ]
    },
    {
      "cell_type": "code",
      "source": [
        "# Access part of a list by slicing.\n",
        "x[1:3]"
      ],
      "metadata": {
        "colab": {
          "base_uri": "https://localhost:8080/"
        },
        "id": "Epv_ZdC5TsjQ",
        "outputId": "8a88a396-d6c5-4f55-ffe5-381bc5a44c9e"
      },
      "execution_count": null,
      "outputs": [
        {
          "output_type": "execute_result",
          "data": {
            "text/plain": [
              "['we', 'are']"
            ]
          },
          "metadata": {},
          "execution_count": 4
        }
      ]
    },
    {
      "cell_type": "code",
      "source": [
        "# Omitting the first value of the slice implies a value of 0.\n",
        "x[:2]"
      ],
      "metadata": {
        "colab": {
          "base_uri": "https://localhost:8080/"
        },
        "id": "RbGkD9ADTvhZ",
        "outputId": "0c82769c-5454-4dcc-9c1b-ab98301aadd7"
      },
      "execution_count": null,
      "outputs": [
        {
          "output_type": "execute_result",
          "data": {
            "text/plain": [
              "['Now', 'we']"
            ]
          },
          "metadata": {},
          "execution_count": 5
        }
      ]
    },
    {
      "cell_type": "code",
      "source": [
        "# Omitting the last value of the slice implies a value of len(list).\n",
        "x[2:]"
      ],
      "metadata": {
        "colab": {
          "base_uri": "https://localhost:8080/"
        },
        "id": "02CC0ZeKTzL8",
        "outputId": "c2f662ac-3a3f-4bdf-f51f-d4487a3d6dd8"
      },
      "execution_count": null,
      "outputs": [
        {
          "output_type": "execute_result",
          "data": {
            "text/plain": [
              "['are', 'cooking', 'with', 7, 'ingredients']"
            ]
          },
          "metadata": {},
          "execution_count": 6
        }
      ]
    },
    {
      "cell_type": "code",
      "source": [
        "# Check the data type of an object using type() function.\n",
        "type(x)"
      ],
      "metadata": {
        "colab": {
          "base_uri": "https://localhost:8080/"
        },
        "id": "-4IUnWBLT2AY",
        "outputId": "aaf89e6b-3995-484f-e24a-47720c641ead"
      },
      "execution_count": null,
      "outputs": [
        {
          "output_type": "execute_result",
          "data": {
            "text/plain": [
              "list"
            ]
          },
          "metadata": {},
          "execution_count": 7
        }
      ]
    },
    {
      "cell_type": "code",
      "source": [
        "# The `in` keyword lets you check if a value is contained in the list.\n",
        "x = [\"Now\", \"we\", \"are\", \"cooking\", \"with\", 7, \"ingredients\"]\n",
        "\"This\" in x"
      ],
      "metadata": {
        "colab": {
          "base_uri": "https://localhost:8080/"
        },
        "id": "JOFc1qUxT6K2",
        "outputId": "fd9d9579-07b1-457c-9652-00ca95a36991"
      },
      "execution_count": null,
      "outputs": [
        {
          "output_type": "execute_result",
          "data": {
            "text/plain": [
              "False"
            ]
          },
          "metadata": {},
          "execution_count": 8
        }
      ]
    },
    {
      "cell_type": "code",
      "source": [
        "fruit = [\"apple\", \"banana\", \"cherry\"]\n",
        "print(fruit)\n"
      ],
      "metadata": {
        "colab": {
          "base_uri": "https://localhost:8080/"
        },
        "id": "dl45Wf2nVIBK",
        "outputId": "74680baf-adfb-484f-f97c-c4708164dab5"
      },
      "execution_count": null,
      "outputs": [
        {
          "output_type": "stream",
          "name": "stdout",
          "text": [
            "['apple', 'banana', 'cherry']\n"
          ]
        }
      ]
    },
    {
      "cell_type": "code",
      "source": [
        "# The append() method adds an element to the end of a list.\n",
        "fruit.append(\"orange\")\n",
        "print(fruit)"
      ],
      "metadata": {
        "colab": {
          "base_uri": "https://localhost:8080/"
        },
        "id": "fFLHR8thVTzY",
        "outputId": "1dd851ce-2ee8-4700-c3fd-e2c3ad3e2dc6"
      },
      "execution_count": null,
      "outputs": [
        {
          "output_type": "stream",
          "name": "stdout",
          "text": [
            "['apple', 'banana', 'cherry', 'orange']\n"
          ]
        }
      ]
    },
    {
      "cell_type": "code",
      "source": [
        "# The insert() method adds an element to a list at the specified index.\n",
        "fruit.insert(3, \"melon\")\n",
        "print(fruit)"
      ],
      "metadata": {
        "colab": {
          "base_uri": "https://localhost:8080/"
        },
        "id": "djtVY9FQVXVW",
        "outputId": "e5638e88-19cd-4ffa-f943-504390719050"
      },
      "execution_count": null,
      "outputs": [
        {
          "output_type": "stream",
          "name": "stdout",
          "text": [
            "['apple', 'banana', 'cherry', 'melon', 'orange']\n"
          ]
        }
      ]
    },
    {
      "cell_type": "code",
      "source": [
        "# The remove() method deletes the first occurrence of an element in a list.\n",
        "fruit.remove('banana')\n",
        "print(fruit)"
      ],
      "metadata": {
        "colab": {
          "base_uri": "https://localhost:8080/"
        },
        "id": "l4YTcA9CWcf6",
        "outputId": "9f62c632-0e4b-4a7a-b92c-5924e4feafad"
      },
      "execution_count": null,
      "outputs": [
        {
          "output_type": "stream",
          "name": "stdout",
          "text": [
            "['apple', 'cherry', 'melon', 'orange']\n"
          ]
        }
      ]
    },
    {
      "cell_type": "code",
      "source": [
        "# Trying to remove an element that doesn't exist results in an error.\n",
        "fruits.remove('Strawberry')\n",
        "print(fruits)"
      ],
      "metadata": {
        "id": "8xU7RL2mWqqo"
      },
      "execution_count": null,
      "outputs": []
    },
    {
      "cell_type": "code",
      "source": [
        "# The pop() method removes the element at a given index and returns it.\n",
        "# If no index is given, it removes and returns the last element.\n",
        "fruit.pop(2)\n",
        "print(fruit)"
      ],
      "metadata": {
        "colab": {
          "base_uri": "https://localhost:8080/"
        },
        "id": "sy8axJonWrZi",
        "outputId": "e66a144c-896f-48f9-8423-5957afb21dc1"
      },
      "execution_count": null,
      "outputs": [
        {
          "output_type": "stream",
          "name": "stdout",
          "text": [
            "['apple', 'cherry', 'orange']\n"
          ]
        }
      ]
    },
    {
      "cell_type": "code",
      "source": [
        "# Reassign the element at a given index with a new value.\n",
        "fruit[1] = 'Mango'\n",
        "print(fruit)"
      ],
      "metadata": {
        "colab": {
          "base_uri": "https://localhost:8080/"
        },
        "id": "1f5LVJMAW1Yf",
        "outputId": "5c880393-ba6b-4a25-ac60-83d9e850e96a"
      },
      "execution_count": null,
      "outputs": [
        {
          "output_type": "stream",
          "name": "stdout",
          "text": [
            "['Mango', 'Mango', 'Mango']\n"
          ]
        }
      ]
    },
    {
      "cell_type": "code",
      "source": [
        "# Strings are immutable because you need to reassign them to modify them.\n",
        "power = '1.21'\n",
        "power = power + ' gigawatts'\n",
        "print(power)"
      ],
      "metadata": {
        "colab": {
          "base_uri": "https://localhost:8080/"
        },
        "id": "y2JnKhlwXKu5",
        "outputId": "882a5b6c-0de2-4079-8220-f06c886019e0"
      },
      "execution_count": null,
      "outputs": [
        {
          "output_type": "stream",
          "name": "stdout",
          "text": [
            "1.21 gigawatts\n"
          ]
        }
      ]
    },
    {
      "cell_type": "code",
      "source": [
        "# You cannot reassign a specific character within a string.\n",
        "power[0] = '2'"
      ],
      "metadata": {
        "id": "S0srWylWXTBa"
      },
      "execution_count": null,
      "outputs": []
    },
    {
      "cell_type": "code",
      "source": [
        "# Lists are mutable because you can overwrite their elements\n",
        "power = [1.21, 'gigawatts']\n",
        "power[0] = 2.21\n",
        "print(power)"
      ],
      "metadata": {
        "id": "kn2m95TZXT72"
      },
      "execution_count": null,
      "outputs": []
    }
  ]
}