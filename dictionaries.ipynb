{
  "nbformat": 4,
  "nbformat_minor": 0,
  "metadata": {
    "colab": {
      "provenance": [],
      "authorship_tag": "ABX9TyO4lAMvHLYfLp7LIwSc31Fi",
      "include_colab_link": true
    },
    "kernelspec": {
      "name": "python3",
      "display_name": "Python 3"
    },
    "language_info": {
      "name": "python"
    }
  },
  "cells": [
    {
      "cell_type": "markdown",
      "metadata": {
        "id": "view-in-github",
        "colab_type": "text"
      },
      "source": [
        "<a href=\"https://colab.research.google.com/github/muhammad-umar-9/Python-Codes/blob/main/dictionaries.ipynb\" target=\"_parent\"><img src=\"https://colab.research.google.com/assets/colab-badge.svg\" alt=\"Open In Colab\"/></a>"
      ]
    },
    {
      "cell_type": "code",
      "execution_count": 4,
      "metadata": {
        "id": "MSotL_Najj1W"
      },
      "outputs": [],
      "source": [
        "# Create a dictionary with pens as keys and the animals they contain as values.\n",
        "# Dictionaries can be instantiated using braces.\n",
        "stationary = {\n",
        "    'pencils': 'blue',\n",
        "    'pens': 'black',\n",
        "    'markers': 'red'\n",
        "}"
      ]
    },
    {
      "cell_type": "code",
      "source": [
        "# Selecting the `pens` key returns `black`, the value stored at that key.\n",
        "stationary['pens']"
      ],
      "metadata": {
        "colab": {
          "base_uri": "https://localhost:8080/",
          "height": 35
        },
        "id": "7BS1UJ7aj9rc",
        "outputId": "81e7020f-0b2d-45fa-fbd7-dc92b4f3e603"
      },
      "execution_count": 5,
      "outputs": [
        {
          "output_type": "execute_result",
          "data": {
            "text/plain": [
              "'black'"
            ],
            "application/vnd.google.colaboratory.intrinsic+json": {
              "type": "string"
            }
          },
          "metadata": {},
          "execution_count": 5
        }
      ]
    },
    {
      "cell_type": "code",
      "source": [
        "# You cannot access a dictionary's values by name using bracket indexing\n",
        "# because the computer interprets this as a key, not a value.\n",
        "zoo['zebras']"
      ],
      "metadata": {
        "colab": {
          "base_uri": "https://localhost:8080/",
          "height": 176
        },
        "id": "q-B4Rdd2k9JO",
        "outputId": "55810fae-f474-4f1e-db30-e1ce6a269aea"
      },
      "execution_count": 6,
      "outputs": [
        {
          "output_type": "error",
          "ename": "KeyError",
          "evalue": "'zebras'",
          "traceback": [
            "\u001b[0;31m---------------------------------------------------------------------------\u001b[0m",
            "\u001b[0;31mKeyError\u001b[0m                                  Traceback (most recent call last)",
            "\u001b[0;32m<ipython-input-6-00e5a49431dc>\u001b[0m in \u001b[0;36m<cell line: 3>\u001b[0;34m()\u001b[0m\n\u001b[1;32m      1\u001b[0m \u001b[0;31m# You cannot access a dictionary's values by name using bracket indexing\u001b[0m\u001b[0;34m\u001b[0m\u001b[0;34m\u001b[0m\u001b[0m\n\u001b[1;32m      2\u001b[0m \u001b[0;31m# because the computer interprets this as a key, not a value.\u001b[0m\u001b[0;34m\u001b[0m\u001b[0;34m\u001b[0m\u001b[0m\n\u001b[0;32m----> 3\u001b[0;31m \u001b[0mzoo\u001b[0m\u001b[0;34m[\u001b[0m\u001b[0;34m'zebras'\u001b[0m\u001b[0;34m]\u001b[0m\u001b[0;34m\u001b[0m\u001b[0;34m\u001b[0m\u001b[0m\n\u001b[0m",
            "\u001b[0;31mKeyError\u001b[0m: 'zebras'"
          ]
        }
      ]
    },
    {
      "cell_type": "code",
      "source": [
        "# Dictionaries can also be instantiated using the dict() function.\n",
        "zoo = dict(\n",
        "    pen_1 = 'monkeys',\n",
        "    pen_2 = 'giraffes',\n",
        "    pen_3 = 'lions'\n",
        ")\n",
        "\n",
        "zoo['pen_3']"
      ],
      "metadata": {
        "colab": {
          "base_uri": "https://localhost:8080/",
          "height": 35
        },
        "id": "g9h_FZkhlFRj",
        "outputId": "75bb9fc9-b265-4788-9b4f-6ccb99e6bc7e"
      },
      "execution_count": 9,
      "outputs": [
        {
          "output_type": "execute_result",
          "data": {
            "text/plain": [
              "'lions'"
            ],
            "application/vnd.google.colaboratory.intrinsic+json": {
              "type": "string"
            }
          },
          "metadata": {},
          "execution_count": 9
        }
      ]
    },
    {
      "cell_type": "code",
      "source": [
        "# Another way to create a dictionary using the dict() function.\n",
        "zoo = dict(\n",
        "    [\n",
        "        ['pen_1', 'monkeys'],\n",
        "        ['pen_2', 'giraffes'],\n",
        "        ['pen_3', 'lions']\n",
        "        ]\n",
        ")\n",
        "zoo['pen_1']"
      ],
      "metadata": {
        "colab": {
          "base_uri": "https://localhost:8080/",
          "height": 35
        },
        "id": "CP-DxoBsmppm",
        "outputId": "f9207ed9-d0bf-46b9-8452-f76b42b7ba82"
      },
      "execution_count": 12,
      "outputs": [
        {
          "output_type": "execute_result",
          "data": {
            "text/plain": [
              "'monkeys'"
            ],
            "application/vnd.google.colaboratory.intrinsic+json": {
              "type": "string"
            }
          },
          "metadata": {},
          "execution_count": 12
        }
      ]
    },
    {
      "cell_type": "code",
      "source": [
        "# Dictionaries are unordered and do not support numerical indexing.\n",
        "zoo[2]"
      ],
      "metadata": {
        "colab": {
          "base_uri": "https://localhost:8080/",
          "height": 158
        },
        "id": "MnWAjq3apsnZ",
        "outputId": "46694adf-dd3e-41f0-9c19-5b9009e50790"
      },
      "execution_count": 15,
      "outputs": [
        {
          "output_type": "error",
          "ename": "KeyError",
          "evalue": "2",
          "traceback": [
            "\u001b[0;31m---------------------------------------------------------------------------\u001b[0m",
            "\u001b[0;31mKeyError\u001b[0m                                  Traceback (most recent call last)",
            "\u001b[0;32m<ipython-input-15-6538832964d3>\u001b[0m in \u001b[0;36m<cell line: 2>\u001b[0;34m()\u001b[0m\n\u001b[1;32m      1\u001b[0m \u001b[0;31m# Dictionaries are unordered and do not support numerical indexing.\u001b[0m\u001b[0;34m\u001b[0m\u001b[0;34m\u001b[0m\u001b[0m\n\u001b[0;32m----> 2\u001b[0;31m \u001b[0mzoo\u001b[0m\u001b[0;34m[\u001b[0m\u001b[0;36m2\u001b[0m\u001b[0;34m]\u001b[0m\u001b[0;34m\u001b[0m\u001b[0;34m\u001b[0m\u001b[0m\n\u001b[0m",
            "\u001b[0;31mKeyError\u001b[0m: 2"
          ]
        }
      ]
    },
    {
      "cell_type": "code",
      "source": [
        "zoo['pen_4'] = 'tigers'\n",
        "zoo"
      ],
      "metadata": {
        "colab": {
          "base_uri": "https://localhost:8080/"
        },
        "id": "OpUFpv-uolyD",
        "outputId": "9800827e-23fb-4f5a-be16-8b0d415b7a4a"
      },
      "execution_count": 13,
      "outputs": [
        {
          "output_type": "execute_result",
          "data": {
            "text/plain": [
              "{'pen_1': 'monkeys', 'pen_2': 'giraffes', 'pen_3': 'lions', 'pen_4': 'tigers'}"
            ]
          },
          "metadata": {},
          "execution_count": 13
        }
      ]
    },
    {
      "cell_type": "code",
      "source": [
        "# Use the `in` keyword to produce a Boolean of whether a given key exists in a dictionary.\n",
        "print('pen_1' in zoo)\n",
        "print('pen_4' in zoo)\n",
        "print('pen_6' in zoo)"
      ],
      "metadata": {
        "colab": {
          "base_uri": "https://localhost:8080/"
        },
        "id": "UiSrMHQzoxpc",
        "outputId": "706b12ab-6b88-4ee5-f85d-0df4fedc77e5"
      },
      "execution_count": 16,
      "outputs": [
        {
          "output_type": "stream",
          "name": "stdout",
          "text": [
            "True\n",
            "True\n",
            "False\n"
          ]
        }
      ]
    },
    {
      "cell_type": "code",
      "source": [
        "#                                                           Dictionary Methods\n"
      ],
      "metadata": {
        "id": "Yyj2RaXEtJxS"
      },
      "execution_count": 17,
      "outputs": []
    },
    {
      "cell_type": "code",
      "source": [
        "# Create a list of tuples, each representing the name, age, and position of a\n",
        "# player on a basketball team.\n",
        "team = [\n",
        "    ('Marta', 20, 'center'),\n",
        "    ('Ana', 22, 'point guard'),\n",
        "    ('Gabi', 22, 'shooting guard'),\n",
        "    ('Luz', 21, 'power forward'),\n",
        "    ('Lorena', 19, 'small forward'),\n",
        "    ]"
      ],
      "metadata": {
        "id": "mHYDjF5atQOR"
      },
      "execution_count": 30,
      "outputs": []
    },
    {
      "cell_type": "code",
      "source": [
        "# Add new players to the list.\n",
        "team1 = [\n",
        "    ('Marta', 20, 'center'),\n",
        "    ('Ana', 22, 'point guard'),\n",
        "    ('Gabi', 22, 'shooting guard'),\n",
        "    ('Luz', 21, 'power forward'),\n",
        "    ('Lorena', 19, 'small forward'),\n",
        "    ('Sandra', 19, 'center'),\n",
        "    ('Mari', 18, 'point guard'),\n",
        "    ('Esme', 18, 'shooting guard'),\n",
        "    ('Lin', 18, 'power forward'),\n",
        "    ('Sol', 19, 'small forward'),\n",
        "    ]"
      ],
      "metadata": {
        "id": "L2p11YhxtUrf"
      },
      "execution_count": 26,
      "outputs": []
    },
    {
      "cell_type": "code",
      "source": [
        "# Instantiate an empty dictionary.\n",
        "new_team = {}\n",
        "# Loop over the tuples in the list of players and unpack their values.\n",
        "for name , age , position in team1:\n",
        "\n",
        "    if position in new_team:                    # If position already a key in new_team,\n",
        "      new_team[position].append((name , age))   # append (name, age) tup to list at that value\n",
        "    else:                                       # If position not a key in new_team,\n",
        "      new_team[position] = [(name , age)]       # create a new key whose value is a list\n",
        "new_team                                        # containing (name, age) tup."
      ],
      "metadata": {
        "colab": {
          "base_uri": "https://localhost:8080/"
        },
        "id": "qx8-qzBStZKw",
        "outputId": "9fef9623-1742-4a0c-9dd7-0fe78722246f"
      },
      "execution_count": 28,
      "outputs": [
        {
          "output_type": "execute_result",
          "data": {
            "text/plain": [
              "{'center': [('Marta', 20), ('Sandra', 19)],\n",
              " 'point guard': [('Ana', 22), ('Mari', 18)],\n",
              " 'shooting guard': [('Gabi', 22), ('Esme', 18)],\n",
              " 'power forward': [('Luz', 21), ('Lin', 18)],\n",
              " 'small forward': [('Lorena', 19), ('Sol', 19)]}"
            ]
          },
          "metadata": {},
          "execution_count": 28
        }
      ]
    },
    {
      "cell_type": "code",
      "source": [
        "new_team['center']"
      ],
      "metadata": {
        "colab": {
          "base_uri": "https://localhost:8080/"
        },
        "id": "J5ufb9qaup5f",
        "outputId": "25e2de53-82fb-45b3-a2ff-dfb023b29ba7"
      },
      "execution_count": 29,
      "outputs": [
        {
          "output_type": "execute_result",
          "data": {
            "text/plain": [
              "[('Marta', 20), ('Sandra', 19)]"
            ]
          },
          "metadata": {},
          "execution_count": 29
        }
      ]
    },
    {
      "cell_type": "code",
      "source": [
        "# You can access the a dictionary's keys by looping over them\n",
        "for x in new_team:\n",
        "    print(x)"
      ],
      "metadata": {
        "colab": {
          "base_uri": "https://localhost:8080/"
        },
        "id": "EFeIxW2XvNPC",
        "outputId": "0c0309f7-941e-463c-b61a-695a8cf3dc47"
      },
      "execution_count": 31,
      "outputs": [
        {
          "output_type": "stream",
          "name": "stdout",
          "text": [
            "center\n",
            "point guard\n",
            "shooting guard\n",
            "power forward\n",
            "small forward\n"
          ]
        }
      ]
    },
    {
      "cell_type": "code",
      "source": [
        "# The keys() method returns the keys of a dictionary.\n",
        "new_team.keys()"
      ],
      "metadata": {
        "colab": {
          "base_uri": "https://localhost:8080/"
        },
        "id": "En5JCco469Vm",
        "outputId": "c202429a-279c-4d42-c765-c080264cca1f"
      },
      "execution_count": 32,
      "outputs": [
        {
          "output_type": "execute_result",
          "data": {
            "text/plain": [
              "dict_keys(['center', 'point guard', 'shooting guard', 'power forward', 'small forward'])"
            ]
          },
          "metadata": {},
          "execution_count": 32
        }
      ]
    },
    {
      "cell_type": "code",
      "source": [
        "new_team.values()"
      ],
      "metadata": {
        "colab": {
          "base_uri": "https://localhost:8080/"
        },
        "id": "ZXJrUIVZ7Ej2",
        "outputId": "ace661bb-4aa6-4398-9cdf-4cd09d5b5c93"
      },
      "execution_count": 33,
      "outputs": [
        {
          "output_type": "execute_result",
          "data": {
            "text/plain": [
              "dict_values([[('Marta', 20), ('Sandra', 19)], [('Ana', 22), ('Mari', 18)], [('Gabi', 22), ('Esme', 18)], [('Luz', 21), ('Lin', 18)], [('Lorena', 19), ('Sol', 19)]])"
            ]
          },
          "metadata": {},
          "execution_count": 33
        }
      ]
    },
    {
      "cell_type": "code",
      "source": [
        "# The items() method returns both the keys and the values.\n",
        "for a , b in new_team.items():\n",
        "    print(a , b)"
      ],
      "metadata": {
        "colab": {
          "base_uri": "https://localhost:8080/"
        },
        "id": "1y7QiVMA7f4b",
        "outputId": "c425e985-542d-4eea-f99c-de633c7e5548"
      },
      "execution_count": 34,
      "outputs": [
        {
          "output_type": "stream",
          "name": "stdout",
          "text": [
            "center [('Marta', 20), ('Sandra', 19)]\n",
            "point guard [('Ana', 22), ('Mari', 18)]\n",
            "shooting guard [('Gabi', 22), ('Esme', 18)]\n",
            "power forward [('Luz', 21), ('Lin', 18)]\n",
            "small forward [('Lorena', 19), ('Sol', 19)]\n"
          ]
        }
      ]
    },
    {
      "cell_type": "code",
      "source": [
        "for a in new_team.values():\n",
        "    print(a)"
      ],
      "metadata": {
        "colab": {
          "base_uri": "https://localhost:8080/"
        },
        "id": "A4dn2PJY7ndU",
        "outputId": "2bf473e4-be02-415c-d4d0-0fc0a4fdc4ee"
      },
      "execution_count": 35,
      "outputs": [
        {
          "output_type": "stream",
          "name": "stdout",
          "text": [
            "[('Marta', 20), ('Sandra', 19)]\n",
            "[('Ana', 22), ('Mari', 18)]\n",
            "[('Gabi', 22), ('Esme', 18)]\n",
            "[('Luz', 21), ('Lin', 18)]\n",
            "[('Lorena', 19), ('Sol', 19)]\n"
          ]
        }
      ]
    },
    {
      "cell_type": "code",
      "source": [
        "for b in new_team.items():\n",
        "    print(b)"
      ],
      "metadata": {
        "colab": {
          "base_uri": "https://localhost:8080/"
        },
        "id": "QO3uBuEB7sUx",
        "outputId": "f98d4723-0763-428f-a2b7-d1c47413ff47"
      },
      "execution_count": 36,
      "outputs": [
        {
          "output_type": "stream",
          "name": "stdout",
          "text": [
            "('center', [('Marta', 20), ('Sandra', 19)])\n",
            "('point guard', [('Ana', 22), ('Mari', 18)])\n",
            "('shooting guard', [('Gabi', 22), ('Esme', 18)])\n",
            "('power forward', [('Luz', 21), ('Lin', 18)])\n",
            "('small forward', [('Lorena', 19), ('Sol', 19)])\n"
          ]
        }
      ]
    },
    {
      "cell_type": "code",
      "source": [
        "for a in new_team.keys():\n",
        "    print(a)"
      ],
      "metadata": {
        "colab": {
          "base_uri": "https://localhost:8080/"
        },
        "id": "ajlP7UjJ73FS",
        "outputId": "179242e6-fd26-4d89-da68-5ce9097395c6"
      },
      "execution_count": 37,
      "outputs": [
        {
          "output_type": "stream",
          "name": "stdout",
          "text": [
            "center\n",
            "point guard\n",
            "shooting guard\n",
            "power forward\n",
            "small forward\n"
          ]
        }
      ]
    }
  ]
}