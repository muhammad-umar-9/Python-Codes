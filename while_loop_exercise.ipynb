{
  "nbformat": 4,
  "nbformat_minor": 0,
  "metadata": {
    "colab": {
      "provenance": [],
      "authorship_tag": "ABX9TyNAM5Zzo0LQQBJQgQ170hzM",
      "include_colab_link": true
    },
    "kernelspec": {
      "name": "python3",
      "display_name": "Python 3"
    },
    "language_info": {
      "name": "python"
    }
  },
  "cells": [
    {
      "cell_type": "markdown",
      "metadata": {
        "id": "view-in-github",
        "colab_type": "text"
      },
      "source": [
        "<a href=\"https://colab.research.google.com/github/muhammad-umar-9/Python-Codes/blob/main/while_loop_exercise.ipynb\" target=\"_parent\"><img src=\"https://colab.research.google.com/assets/colab-badge.svg\" alt=\"Open In Colab\"/></a>"
      ]
    },
    {
      "cell_type": "code",
      "execution_count": 1,
      "metadata": {
        "colab": {
          "base_uri": "https://localhost:8080/"
        },
        "id": "1QVys6hDWTTL",
        "outputId": "8cc18b93-a2b0-4fab-deed-8510ec4adb34"
      },
      "outputs": [
        {
          "output_type": "stream",
          "name": "stdout",
          "text": [
            "1\n",
            "2\n",
            "4\n",
            "8\n",
            "16\n",
            "32\n",
            "64\n"
          ]
        }
      ],
      "source": [
        "x = 1\n",
        "while x < 100:\n",
        "   print(x)\n",
        "   x = x*2"
      ]
    },
    {
      "cell_type": "code",
      "source": [
        "x = 1\n",
        "i = 0\n",
        "while x < 100:\n",
        "   if i == 5:\n",
        "       break\n",
        "   print(i, x)\n",
        "   x = x*2\n",
        "   i += 1"
      ],
      "metadata": {
        "colab": {
          "base_uri": "https://localhost:8080/"
        },
        "id": "jjWtmnzYWl4z",
        "outputId": "79ad6396-7c8e-48b7-a1fa-50f3de28be46"
      },
      "execution_count": 2,
      "outputs": [
        {
          "output_type": "stream",
          "name": "stdout",
          "text": [
            "0 1\n",
            "1 2\n",
            "2 4\n",
            "3 8\n",
            "4 16\n"
          ]
        }
      ]
    },
    {
      "cell_type": "code",
      "source": [
        "i = 0\n",
        "while i < 10:\n",
        "    if i % 3 != 0:\n",
        "        print(i)\n",
        "        i += 1\n",
        "        continue\n",
        "    i += 1"
      ],
      "metadata": {
        "colab": {
          "base_uri": "https://localhost:8080/"
        },
        "id": "PXf33VteXGd6",
        "outputId": "85cbbc63-77e6-4d01-9515-eb1ca09ceb74"
      },
      "execution_count": 3,
      "outputs": [
        {
          "output_type": "stream",
          "name": "stdout",
          "text": [
            "1\n",
            "2\n",
            "4\n",
            "5\n",
            "7\n",
            "8\n"
          ]
        }
      ]
    },
    {
      "cell_type": "code",
      "source": [
        "# Assign `candy_purchased` to an initial value of 0 to act as a counter\n",
        "candy_purchased = 0\n",
        "\n",
        "# Create an iterative statement using `while` and `candy_purchased`\n",
        "# Display how many purchases have been made with each iteration\n",
        "\n",
        "while candy_purchased <= 5:\n",
        "    print('Candy purchased: ' + str(candy_purchased))\n",
        "    # Increment the candy_purchased counter\n",
        "    candy_purchased += 1"
      ],
      "metadata": {
        "colab": {
          "base_uri": "https://localhost:8080/"
        },
        "id": "K2YK7DSZafNU",
        "outputId": "fa995948-5383-4298-b3d6-8abd9586c122"
      },
      "execution_count": 10,
      "outputs": [
        {
          "output_type": "stream",
          "name": "stdout",
          "text": [
            "Candy purchased: 0\n",
            "Candy purchased: 1\n",
            "Candy purchased: 2\n",
            "Candy purchased: 3\n",
            "Candy purchased: 4\n",
            "Candy purchased: 5\n"
          ]
        }
      ]
    },
    {
      "cell_type": "code",
      "source": [
        "candy_purchased = 0\n",
        "\n",
        "while candy_purchased <= 100:\n",
        "    if candy_purchased % 10 == 0:\n",
        "        print('Candy purchased: ' + str(candy_purchased))\n",
        "    candy_purchased += 1\n"
      ],
      "metadata": {
        "id": "_ew7ZiylfKUl",
        "outputId": "5f376bec-ebb1-45f6-90aa-044b58d8de47",
        "colab": {
          "base_uri": "https://localhost:8080/"
        }
      },
      "execution_count": 11,
      "outputs": [
        {
          "output_type": "stream",
          "name": "stdout",
          "text": [
            "Candy purchased: 0\n",
            "Candy purchased: 10\n",
            "Candy purchased: 20\n",
            "Candy purchased: 30\n",
            "Candy purchased: 40\n",
            "Candy purchased: 50\n",
            "Candy purchased: 60\n",
            "Candy purchased: 70\n",
            "Candy purchased: 80\n",
            "Candy purchased: 90\n",
            "Candy purchased: 100\n"
          ]
        }
      ]
    },
    {
      "cell_type": "code",
      "source": [
        "time = 10\n",
        "while time >= 1:\n",
        "    print(time)\n",
        "    if time == 6:\n",
        "        print('Place your reservation soon! 5 minutes remaining.')\n",
        "    elif time == 3:\n",
        "        print('Don\\'t lose your seats! 2 minutes remaining.')\n",
        "    time -= 1 # Decrement time in each iteration\n",
        "else:\n",
        "    print('User timed out.')"
      ],
      "metadata": {
        "colab": {
          "base_uri": "https://localhost:8080/"
        },
        "id": "-cKypWi-dzIY",
        "outputId": "b86f9db0-ae72-43c6-a6d0-3b1917a32a01"
      },
      "execution_count": 8,
      "outputs": [
        {
          "output_type": "stream",
          "name": "stdout",
          "text": [
            "10\n",
            "9\n",
            "8\n",
            "7\n",
            "6\n",
            "Place your reservation soon! 5 minutes remaining.\n",
            "5\n",
            "4\n",
            "3\n",
            "Don't lose your seats! 2 minutes remaining.\n",
            "2\n",
            "1\n",
            "User timed out.\n"
          ]
        }
      ]
    }
  ]
}