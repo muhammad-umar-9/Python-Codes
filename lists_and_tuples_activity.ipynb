{
  "nbformat": 4,
  "nbformat_minor": 0,
  "metadata": {
    "colab": {
      "provenance": [],
      "authorship_tag": "ABX9TyO8oEn7e+6NlmRvGRl74xVN",
      "include_colab_link": true
    },
    "kernelspec": {
      "name": "python3",
      "display_name": "Python 3"
    },
    "language_info": {
      "name": "python"
    }
  },
  "cells": [
    {
      "cell_type": "markdown",
      "metadata": {
        "id": "view-in-github",
        "colab_type": "text"
      },
      "source": [
        "<a href=\"https://colab.research.google.com/github/muhammad-umar-9/Python-Codes/blob/main/lists_and_tuples_activity.ipynb\" target=\"_parent\"><img src=\"https://colab.research.google.com/assets/colab-badge.svg\" alt=\"Open In Colab\"/></a>"
      ]
    },
    {
      "cell_type": "code",
      "execution_count": 4,
      "metadata": {
        "id": "NBfBDEwO_GcZ"
      },
      "outputs": [],
      "source": [
        "state_names = [\"Arizona\", \"California\", \"California\", \"Kentucky\", \"Louisiana\"]\n",
        "country_names = [\"Maricopa\", \"Alameda\", \"Sacramento\", \"Jefferson\", \"East Baton Rouge\"]"
      ]
    },
    {
      "cell_type": "code",
      "source": [
        "state_country_tuples = []\n",
        "for i in range(len(state_names)):\n",
        "    state_country_tuples.append((state_names[i] , country_names[i]))\n",
        "\n",
        "state_country_tuples"
      ],
      "metadata": {
        "colab": {
          "base_uri": "https://localhost:8080/"
        },
        "id": "POe4w4hd_WGB",
        "outputId": "8b6cd8bd-8574-4bba-baf0-fd6543b723c7"
      },
      "execution_count": 5,
      "outputs": [
        {
          "output_type": "execute_result",
          "data": {
            "text/plain": [
              "[('Arizona', 'Maricopa'),\n",
              " ('California', 'Alameda'),\n",
              " ('California', 'Sacramento'),\n",
              " ('Kentucky', 'Jefferson'),\n",
              " ('Louisiana', 'East Baton Rouge')]"
            ]
          },
          "metadata": {},
          "execution_count": 5
        }
      ]
    },
    {
      "cell_type": "code",
      "source": [
        "state_country_zipped = list(zip(state_names , country_names))\n",
        "state_country_zipped\n"
      ],
      "metadata": {
        "colab": {
          "base_uri": "https://localhost:8080/"
        },
        "id": "jLHxdW2fAT4n",
        "outputId": "735ec95c-1d58-468e-fa6d-a9105e9df2cd"
      },
      "execution_count": 6,
      "outputs": [
        {
          "output_type": "execute_result",
          "data": {
            "text/plain": [
              "[('Arizona', 'Maricopa'),\n",
              " ('California', 'Alameda'),\n",
              " ('California', 'Sacramento'),\n",
              " ('Kentucky', 'Jefferson'),\n",
              " ('Louisiana', 'East Baton Rouge')]"
            ]
          },
          "metadata": {},
          "execution_count": 6
        }
      ]
    },
    {
      "cell_type": "code",
      "source": [
        "state_country_zipped == state_country_tuples\n"
      ],
      "metadata": {
        "colab": {
          "base_uri": "https://localhost:8080/"
        },
        "id": "Ia4tF0fEAXmX",
        "outputId": "fda51e05-8a1d-4cff-b1eb-6df5fe1f6486"
      },
      "execution_count": 7,
      "outputs": [
        {
          "output_type": "execute_result",
          "data": {
            "text/plain": [
              "True"
            ]
          },
          "metadata": {},
          "execution_count": 7
        }
      ]
    },
    {
      "cell_type": "code",
      "source": [
        "state_country_lists = [list(i) for i in state_country_tuples]\n",
        "state_country_lists\n"
      ],
      "metadata": {
        "colab": {
          "base_uri": "https://localhost:8080/"
        },
        "id": "Kh9352_LAdl3",
        "outputId": "a8898fe0-eb96-4e04-c474-a7def4cd4989"
      },
      "execution_count": 8,
      "outputs": [
        {
          "output_type": "execute_result",
          "data": {
            "text/plain": [
              "[['Arizona', 'Maricopa'],\n",
              " ['California', 'Alameda'],\n",
              " ['California', 'Sacramento'],\n",
              " ['Kentucky', 'Jefferson'],\n",
              " ['Louisiana', 'East Baton Rouge']]"
            ]
          },
          "metadata": {},
          "execution_count": 8
        }
      ]
    },
    {
      "cell_type": "code",
      "source": [
        "ca_counties = []\n",
        "for state, county in state_country_tuples:\n",
        "    if state=='California':\n",
        "        ca_counties.append(county)\n",
        "ca_counties"
      ],
      "metadata": {
        "colab": {
          "base_uri": "https://localhost:8080/"
        },
        "id": "eufCo630J0e7",
        "outputId": "c988fc61-3913-44d6-956d-168cbcce231c"
      },
      "execution_count": 9,
      "outputs": [
        {
          "output_type": "execute_result",
          "data": {
            "text/plain": [
              "['Alameda', 'Sacramento']"
            ]
          },
          "metadata": {},
          "execution_count": 9
        }
      ]
    },
    {
      "cell_type": "code",
      "source": [
        "ca_counties = [country for (state, country) in state_country_tuples if state=='California']\n",
        "ca_counties"
      ],
      "metadata": {
        "colab": {
          "base_uri": "https://localhost:8080/"
        },
        "id": "HZ3PQLEOJ7Uo",
        "outputId": "65e0b543-7759-4d1c-bd7d-7cf965a89f5b"
      },
      "execution_count": 11,
      "outputs": [
        {
          "output_type": "execute_result",
          "data": {
            "text/plain": [
              "['Alameda', 'Sacramento']"
            ]
          },
          "metadata": {},
          "execution_count": 11
        }
      ]
    }
  ]
}