{
  "nbformat": 4,
  "nbformat_minor": 0,
  "metadata": {
    "colab": {
      "provenance": [],
      "authorship_tag": "ABX9TyOCEnWUHBM+33z/zVcMLqmW",
      "include_colab_link": true
    },
    "kernelspec": {
      "name": "python3",
      "display_name": "Python 3"
    },
    "language_info": {
      "name": "python"
    }
  },
  "cells": [
    {
      "cell_type": "markdown",
      "metadata": {
        "id": "view-in-github",
        "colab_type": "text"
      },
      "source": [
        "<a href=\"https://colab.research.google.com/github/muhammad-umar-9/Python-Codes/blob/main/For_loops_exercise.ipynb\" target=\"_parent\"><img src=\"https://colab.research.google.com/assets/colab-badge.svg\" alt=\"Open In Colab\"/></a>"
      ]
    },
    {
      "cell_type": "code",
      "execution_count": null,
      "metadata": {
        "colab": {
          "base_uri": "https://localhost:8080/"
        },
        "id": "k9uGDXhtmf4X",
        "outputId": "11902d79-da46-4878-bdf5-9533f52fd18c"
      },
      "outputs": [
        {
          "output_type": "stream",
          "name": "stdout",
          "text": [
            "0\n",
            "1\n",
            "2\n",
            "3\n"
          ]
        }
      ],
      "source": [
        "for x in range(5):\n",
        "    print(x)\n",
        "    if x == 3:\n",
        "        break"
      ]
    },
    {
      "cell_type": "code",
      "source": [
        "product = 1\n",
        "\n",
        "for n in range(1 , 10):\n",
        "    product = product * n\n",
        "print(product)"
      ],
      "metadata": {
        "colab": {
          "base_uri": "https://localhost:8080/"
        },
        "id": "flhn2nSu1Uro",
        "outputId": "e578c07a-76c0-4f14-c3d6-d509f5b3f660"
      },
      "execution_count": null,
      "outputs": [
        {
          "output_type": "stream",
          "name": "stdout",
          "text": [
            "362880\n"
          ]
        }
      ]
    },
    {
      "cell_type": "code",
      "source": [
        "def to_celcius(x):\n",
        "    return (x - 32) * 5/9\n",
        "for x in range(0, 101, 10):\n",
        "    print(to_celcius(x))"
      ],
      "metadata": {
        "colab": {
          "base_uri": "https://localhost:8080/"
        },
        "id": "k8meRwwR3W61",
        "outputId": "0e737e00-0195-41a5-dedc-b240b9ddfc6e"
      },
      "execution_count": null,
      "outputs": [
        {
          "output_type": "stream",
          "name": "stdout",
          "text": [
            "-17.77777777777778\n",
            "-12.222222222222221\n",
            "-6.666666666666667\n",
            "-1.1111111111111112\n",
            "4.444444444444445\n",
            "10.0\n",
            "15.555555555555555\n",
            "21.11111111111111\n",
            "26.666666666666668\n",
            "32.22222222222222\n",
            "37.77777777777778\n"
          ]
        }
      ]
    },
    {
      "cell_type": "code",
      "source": [],
      "metadata": {
        "id": "VMg-LrS33hCI"
      },
      "execution_count": null,
      "outputs": []
    }
  ]
}