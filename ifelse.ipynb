{
  "nbformat": 4,
  "nbformat_minor": 0,
  "metadata": {
    "colab": {
      "provenance": [],
      "authorship_tag": "ABX9TyPLY9ahgOX8zkYNxbohdvNX",
      "include_colab_link": true
    },
    "kernelspec": {
      "name": "python3",
      "display_name": "Python 3"
    },
    "language_info": {
      "name": "python"
    }
  },
  "cells": [
    {
      "cell_type": "markdown",
      "metadata": {
        "id": "view-in-github",
        "colab_type": "text"
      },
      "source": [
        "<a href=\"https://colab.research.google.com/github/muhammad-umar-9/Python-Codes/blob/main/ifelse.ipynb\" target=\"_parent\"><img src=\"https://colab.research.google.com/assets/colab-badge.svg\" alt=\"Open In Colab\"/></a>"
      ]
    },
    {
      "cell_type": "code",
      "execution_count": 4,
      "metadata": {
        "colab": {
          "base_uri": "https://localhost:8080/"
        },
        "id": "rSoLKVsWe01B",
        "outputId": "189d13c9-195f-4542-e9e9-a2bc8f38ce7e"
      },
      "outputs": [
        {
          "output_type": "stream",
          "name": "stdout",
          "text": [
            "name good\n"
          ]
        }
      ],
      "source": [
        "def length(name):\n",
        "  if len(name) > 20:\n",
        "    print(\"name too long\")\n",
        "  else:\n",
        "      print(\"name good\")\n",
        "\n",
        "length(\"William\")"
      ]
    },
    {
      "cell_type": "code",
      "source": [
        "# Define a function that uses modulo to check if a number is even.\n",
        "def is_even(number):\n",
        "    if number % 2 == 0:\n",
        "        print(\"Number is even\")\n",
        "    else:\n",
        "        print(\"Number is odd\")\n",
        ""
      ],
      "metadata": {
        "id": "hKIfLUH_fnQg"
      },
      "execution_count": 9,
      "outputs": []
    },
    {
      "cell_type": "code",
      "source": [
        "is_even(2)"
      ],
      "metadata": {
        "colab": {
          "base_uri": "https://localhost:8080/"
        },
        "id": "kby409fKgGzx",
        "outputId": "5ef11fc2-34f4-4bae-c326-b2571a15e4bf"
      },
      "execution_count": 10,
      "outputs": [
        {
          "output_type": "stream",
          "name": "stdout",
          "text": [
            "Number is even\n"
          ]
        }
      ]
    },
    {
      "cell_type": "code",
      "source": [
        "# Define a function that checks validity of username based on length.\n",
        "def hint_username(username):\n",
        "    if len(username) < 8:\n",
        "        print(\"Invalid username. Must be at least 8 characters long.\")\n",
        "    elif len(username) > 15:\n",
        "        print(\"Invalid username. Cannot exceed 15 characters.\")\n",
        "    else:\n",
        "        print(\"Valid username.\")"
      ],
      "metadata": {
        "id": "3mG_PpdcgEqb"
      },
      "execution_count": 11,
      "outputs": []
    },
    {
      "cell_type": "code",
      "source": [
        "hint_username(\"John\")"
      ],
      "metadata": {
        "colab": {
          "base_uri": "https://localhost:8080/"
        },
        "id": "XqfkMwGsgOdG",
        "outputId": "7d13e834-b17f-4361-b9d1-d45181bfb478"
      },
      "execution_count": 12,
      "outputs": [
        {
          "output_type": "stream",
          "name": "stdout",
          "text": [
            "Invalid username. Must be at least 8 characters long.\n"
          ]
        }
      ]
    }
  ]
}