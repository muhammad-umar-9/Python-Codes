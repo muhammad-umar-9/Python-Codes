{
  "nbformat": 4,
  "nbformat_minor": 0,
  "metadata": {
    "colab": {
      "provenance": [],
      "authorship_tag": "ABX9TyPf1KQNss+266idcgjiY7uR",
      "include_colab_link": true
    },
    "kernelspec": {
      "name": "python3",
      "display_name": "Python 3"
    },
    "language_info": {
      "name": "python"
    }
  },
  "cells": [
    {
      "cell_type": "markdown",
      "metadata": {
        "id": "view-in-github",
        "colab_type": "text"
      },
      "source": [
        "<a href=\"https://colab.research.google.com/github/muhammad-umar-9/Python-Codes/blob/main/Tuples.ipynb\" target=\"_parent\"><img src=\"https://colab.research.google.com/assets/colab-badge.svg\" alt=\"Open In Colab\"/></a>"
      ]
    },
    {
      "cell_type": "code",
      "execution_count": 2,
      "metadata": {
        "colab": {
          "base_uri": "https://localhost:8080/",
          "height": 193
        },
        "id": "MXDJgNUxtrfS",
        "outputId": "b3851a3e-33d1-4333-d2c9-c1ecb2494f89"
      },
      "outputs": [
        {
          "output_type": "error",
          "ename": "TypeError",
          "evalue": "'tuple' object does not support item assignment",
          "traceback": [
            "\u001b[0;31m---------------------------------------------------------------------------\u001b[0m",
            "\u001b[0;31mTypeError\u001b[0m                                 Traceback (most recent call last)",
            "\u001b[0;32m<ipython-input-2-2707d2b50c4d>\u001b[0m in \u001b[0;36m<cell line: 5>\u001b[0;34m()\u001b[0m\n\u001b[1;32m      3\u001b[0m \u001b[0;34m\u001b[0m\u001b[0m\n\u001b[1;32m      4\u001b[0m \u001b[0;31m# Tuples are immutable, so their elements cannot be overwritten.\u001b[0m\u001b[0;34m\u001b[0m\u001b[0;34m\u001b[0m\u001b[0m\n\u001b[0;32m----> 5\u001b[0;31m \u001b[0mfullname\u001b[0m\u001b[0;34m[\u001b[0m\u001b[0;36m2\u001b[0m\u001b[0;34m]\u001b[0m \u001b[0;34m=\u001b[0m \u001b[0;34m'Copper'\u001b[0m\u001b[0;34m\u001b[0m\u001b[0;34m\u001b[0m\u001b[0m\n\u001b[0m\u001b[1;32m      6\u001b[0m \u001b[0mprint\u001b[0m\u001b[0;34m(\u001b[0m\u001b[0mfullname\u001b[0m\u001b[0;34m)\u001b[0m\u001b[0;34m\u001b[0m\u001b[0;34m\u001b[0m\u001b[0m\n",
            "\u001b[0;31mTypeError\u001b[0m: 'tuple' object does not support item assignment"
          ]
        }
      ],
      "source": [
        "# Tuples are instantiated with parentheses.\n",
        "fullname = ('Masha', 'Z', 'Hopper')\n",
        "\n",
        "# Tuples are immutable, so their elements cannot be overwritten.\n",
        "fullname[2] = 'Copper'\n",
        "print(fullname)"
      ]
    },
    {
      "cell_type": "code",
      "source": [
        " #You can combine tuples using addition.\n",
        " #it will add at last\n",
        "fullname = fullname + ('Jr',)\n",
        "print(fullname)"
      ],
      "metadata": {
        "colab": {
          "base_uri": "https://localhost:8080/"
        },
        "id": "7gziJirzwOBF",
        "outputId": "d826fcf6-e1e8-4a9f-f4cb-0e60e84bcb6b"
      },
      "execution_count": 3,
      "outputs": [
        {
          "output_type": "stream",
          "name": "stdout",
          "text": [
            "('Masha', 'Z', 'Hopper', 'Jr')\n"
          ]
        }
      ]
    },
    {
      "cell_type": "code",
      "source": [
        "# The tuple() function converts an object's data type to tuple.\n",
        "fullname = ['Masha', 'Z', 'Hopper']\n",
        "fullname = tuple(fullname)\n",
        "print(fullname)"
      ],
      "metadata": {
        "colab": {
          "base_uri": "https://localhost:8080/"
        },
        "id": "jrVlETY4wZCy",
        "outputId": "c7f22348-141d-40fb-f084-e1318cf41788"
      },
      "execution_count": 4,
      "outputs": [
        {
          "output_type": "stream",
          "name": "stdout",
          "text": [
            "('Masha', 'Z', 'Hopper')\n"
          ]
        }
      ]
    },
    {
      "cell_type": "code",
      "source": [
        "# Functions that return multiple values return them in a tuple.\n",
        "def to_dollars_cents(price):\n",
        "    '''\n",
        "    Split price (float) into dollars and cents.\n",
        "    '''\n",
        "    dollars = int(price // 1)\n",
        "    cents = round(price % 1 * 100)\n",
        "\n",
        "    return dollars, cents"
      ],
      "metadata": {
        "id": "ihHo6O2YwdcL"
      },
      "execution_count": 5,
      "outputs": []
    },
    {
      "cell_type": "code",
      "source": [
        "# Functions that return multiple values return them in a tuple.\n",
        "to_dollars_cents(6.55)"
      ],
      "metadata": {
        "colab": {
          "base_uri": "https://localhost:8080/"
        },
        "id": "9DvcVWlQ13Ys",
        "outputId": "23daa72c-c988-467d-ab96-81cc88dd49fc"
      },
      "execution_count": 6,
      "outputs": [
        {
          "output_type": "execute_result",
          "data": {
            "text/plain": [
              "(6, 55)"
            ]
          },
          "metadata": {},
          "execution_count": 6
        }
      ]
    },
    {
      "cell_type": "code",
      "source": [
        "# \"Unpacking\" a tuple allows a tuple's elements to be assigned to variables.\n",
        "dollars, cents = to_dollars_cents(6.55)\n",
        "print(dollars + 1)\n",
        "print(cents + 1)"
      ],
      "metadata": {
        "colab": {
          "base_uri": "https://localhost:8080/"
        },
        "id": "45KbVrBz1702",
        "outputId": "5b34a353-9dd6-40ec-fa79-cd4bd51d1632"
      },
      "execution_count": 7,
      "outputs": [
        {
          "output_type": "stream",
          "name": "stdout",
          "text": [
            "7\n",
            "56\n"
          ]
        }
      ]
    },
    {
      "cell_type": "code",
      "source": [
        "# The data type of an element of an unpacked tuple is not necessarily a tuple.\n",
        "type(dollars)"
      ],
      "metadata": {
        "colab": {
          "base_uri": "https://localhost:8080/"
        },
        "id": "ip-p9S732Dnj",
        "outputId": "ba80a628-dcfe-4567-cd5a-31ad1f785ebc"
      },
      "execution_count": 8,
      "outputs": [
        {
          "output_type": "execute_result",
          "data": {
            "text/plain": [
              "int"
            ]
          },
          "metadata": {},
          "execution_count": 8
        }
      ]
    },
    {
      "cell_type": "code",
      "source": [
        "# Create a list of tuples, each representing the name, age, and position of a\n",
        "# player on a basketball team.\n",
        "team = [('Umar' , 10 , 'center') ,\n",
        "        ('Ana', 22, 'point guard'),\n",
        "        ('Gabi', 22, 'shooting guard'),\n",
        "        ('Luz', 21, 'power forward'),\n",
        "        ('Lorena', 19, 'small forward'),]"
      ],
      "metadata": {
        "id": "pbt8UXkg2Hhj"
      },
      "execution_count": 9,
      "outputs": []
    },
    {
      "cell_type": "code",
      "source": [
        "# Use a for loop to loop over the list, unpack the tuple at each iteration, and\n",
        "# print one of the values.\n",
        "for name , age , position in team:\n",
        "    print(name)"
      ],
      "metadata": {
        "colab": {
          "base_uri": "https://localhost:8080/"
        },
        "id": "CkLolADE2bab",
        "outputId": "b8105f5a-ceb2-4fe0-f2d7-c5481b472907"
      },
      "execution_count": 10,
      "outputs": [
        {
          "output_type": "stream",
          "name": "stdout",
          "text": [
            "Umar\n",
            "Ana\n",
            "Gabi\n",
            "Luz\n",
            "Lorena\n"
          ]
        }
      ]
    },
    {
      "cell_type": "code",
      "source": [
        "print(team[0])"
      ],
      "metadata": {
        "colab": {
          "base_uri": "https://localhost:8080/"
        },
        "id": "3dhA57Zt2lym",
        "outputId": "0dcf42ef-0912-4d07-e106-dfbbd492b5dc"
      },
      "execution_count": 11,
      "outputs": [
        {
          "output_type": "stream",
          "name": "stdout",
          "text": [
            "('Umar', 10, 'center')\n"
          ]
        }
      ]
    },
    {
      "cell_type": "code",
      "source": [
        "print(team[1])"
      ],
      "metadata": {
        "colab": {
          "base_uri": "https://localhost:8080/"
        },
        "id": "ENLHruFX2pct",
        "outputId": "9cc5d61e-3ee4-467e-e9db-9abd29244d88"
      },
      "execution_count": 12,
      "outputs": [
        {
          "output_type": "stream",
          "name": "stdout",
          "text": [
            "('Ana', 22, 'point guard')\n"
          ]
        }
      ]
    },
    {
      "cell_type": "code",
      "source": [
        "print(age)"
      ],
      "metadata": {
        "colab": {
          "base_uri": "https://localhost:8080/"
        },
        "id": "unwqUN_n2sQX",
        "outputId": "8c2d2a05-5ab0-4792-9e29-b4e9c78e5620"
      },
      "execution_count": 14,
      "outputs": [
        {
          "output_type": "stream",
          "name": "stdout",
          "text": [
            "19\n"
          ]
        }
      ]
    },
    {
      "cell_type": "code",
      "source": [
        "print(name)"
      ],
      "metadata": {
        "colab": {
          "base_uri": "https://localhost:8080/"
        },
        "id": "4m_o2_GJ20Rl",
        "outputId": "bb1578c5-fa76-4beb-fa3f-8bccb66e400f"
      },
      "execution_count": 15,
      "outputs": [
        {
          "output_type": "stream",
          "name": "stdout",
          "text": [
            "Lorena\n"
          ]
        }
      ]
    },
    {
      "cell_type": "code",
      "source": [
        "print(position)"
      ],
      "metadata": {
        "colab": {
          "base_uri": "https://localhost:8080/"
        },
        "id": "AVwMSo7k23fS",
        "outputId": "f967d575-ec7f-4569-e8b4-1ca7a2e623be"
      },
      "execution_count": 16,
      "outputs": [
        {
          "output_type": "stream",
          "name": "stdout",
          "text": [
            "small forward\n"
          ]
        }
      ]
    },
    {
      "cell_type": "code",
      "source": [
        "for name , age , position in team:\n",
        "    print(name , age , position)"
      ],
      "metadata": {
        "colab": {
          "base_uri": "https://localhost:8080/"
        },
        "id": "N7vMzAe327YR",
        "outputId": "eb8be551-e3bf-41ed-f94c-b82ae9f83f70"
      },
      "execution_count": 17,
      "outputs": [
        {
          "output_type": "stream",
          "name": "stdout",
          "text": [
            "Umar 10 center\n",
            "Ana 22 point guard\n",
            "Gabi 22 shooting guard\n",
            "Luz 21 power forward\n",
            "Lorena 19 small forward\n"
          ]
        }
      ]
    },
    {
      "cell_type": "code",
      "source": [
        "print(position)"
      ],
      "metadata": {
        "colab": {
          "base_uri": "https://localhost:8080/"
        },
        "id": "79_Tw-Di2_ib",
        "outputId": "8010d954-2b15-4f70-e794-2de8a1ff3697"
      },
      "execution_count": 18,
      "outputs": [
        {
          "output_type": "stream",
          "name": "stdout",
          "text": [
            "small forward\n"
          ]
        }
      ]
    },
    {
      "cell_type": "code",
      "source": [
        "# This code produces the same result as the code in the cell above.\n",
        "for player in team:\n",
        "    print(player[0])"
      ],
      "metadata": {
        "colab": {
          "base_uri": "https://localhost:8080/"
        },
        "id": "2DGCRxl_3MFx",
        "outputId": "25e55a6e-eae7-4986-8770-8aadc4ddd291"
      },
      "execution_count": 19,
      "outputs": [
        {
          "output_type": "stream",
          "name": "stdout",
          "text": [
            "Umar\n",
            "Ana\n",
            "Gabi\n",
            "Luz\n",
            "Lorena\n"
          ]
        }
      ]
    }
  ]
}