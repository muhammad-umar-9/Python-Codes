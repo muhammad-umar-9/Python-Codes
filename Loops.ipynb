{
  "nbformat": 4,
  "nbformat_minor": 0,
  "metadata": {
    "colab": {
      "provenance": [],
      "authorship_tag": "ABX9TyM6qA20bkKVZnXfMEg9p6pj",
      "include_colab_link": true
    },
    "kernelspec": {
      "name": "python3",
      "display_name": "Python 3"
    },
    "language_info": {
      "name": "python"
    }
  },
  "cells": [
    {
      "cell_type": "markdown",
      "metadata": {
        "id": "view-in-github",
        "colab_type": "text"
      },
      "source": [
        "<a href=\"https://colab.research.google.com/github/muhammad-umar-9/Python-Codes/blob/main/Loops.ipynb\" target=\"_parent\"><img src=\"https://colab.research.google.com/assets/colab-badge.svg\" alt=\"Open In Colab\"/></a>"
      ]
    },
    {
      "cell_type": "code",
      "execution_count": 6,
      "metadata": {
        "colab": {
          "base_uri": "https://localhost:8080/"
        },
        "id": "6VxS4sSPCI1Y",
        "outputId": "10bf9ebe-73eb-4802-8594-f5664a6c3da8"
      },
      "outputs": [
        {
          "output_type": "stream",
          "name": "stdout",
          "text": [
            "X is less than 5\n",
            "X is less than 5\n",
            "X is less than 5\n",
            "X is less than 5\n",
            "X is less than 5\n",
            "X is not less than 5  and here x value is 5\n"
          ]
        }
      ],
      "source": [
        "x = 0\n",
        "while x < 5:\n",
        "    print('X is less than 5')\n",
        "    x = x + 1\n",
        "\n",
        "print('X is not less than 5  and here x value is ' + str(x))"
      ]
    },
    {
      "cell_type": "code",
      "source": [
        "import random\n",
        "number = random.randint(5,25)\n",
        "guess_number = 0\n",
        "while guess_number < 5:\n",
        "    print('Enter a number between 5 and 25')\n",
        "    guess = input()\n",
        "    guess_number = int(guess)\n",
        "    guess_number += 1\n",
        "\n",
        "    if guess == number:\n",
        "        break\n",
        "    elif guess_number == 5:\n",
        "        break\n",
        "    else:\n",
        "        print('Try again')\n",
        "if guess == number:\n",
        "    print('You guess the correct number')\n",
        "else:\n",
        "    print('your guess is wrong')\n",
        "\n",
        "\n"
      ],
      "metadata": {
        "colab": {
          "base_uri": "https://localhost:8080/"
        },
        "id": "rpOzSCdqEt5e",
        "outputId": "a6f02ab8-9de2-4d44-809e-4748152fc747"
      },
      "execution_count": 10,
      "outputs": [
        {
          "output_type": "stream",
          "name": "stdout",
          "text": [
            "Enter a number between 5 and 25\n",
            "16\n",
            "Try again\n",
            "your guess is wrong\n"
          ]
        }
      ]
    }
  ]
}