{
  "nbformat": 4,
  "nbformat_minor": 0,
  "metadata": {
    "colab": {
      "provenance": [],
      "authorship_tag": "ABX9TyNn1SDQjiaX2gbkdP2c0SpK",
      "include_colab_link": true
    },
    "kernelspec": {
      "name": "python3",
      "display_name": "Python 3"
    },
    "language_info": {
      "name": "python"
    }
  },
  "cells": [
    {
      "cell_type": "markdown",
      "metadata": {
        "id": "view-in-github",
        "colab_type": "text"
      },
      "source": [
        "<a href=\"https://colab.research.google.com/github/muhammad-umar-9/Python-Codes/blob/main/more_with_loops_%2C_lists_and_tuples.ipynb\" target=\"_parent\"><img src=\"https://colab.research.google.com/assets/colab-badge.svg\" alt=\"Open In Colab\"/></a>"
      ]
    },
    {
      "cell_type": "code",
      "execution_count": 1,
      "metadata": {
        "id": "NadBroT-9yxu"
      },
      "outputs": [],
      "source": [
        "team = [('Marta', 20, 'center'),\n",
        "        ('Ana', 22, 'point guard'),\n",
        "        ('Gabi', 22, 'shooting guard'),\n",
        "        ('Luz', 21, 'power forward'),\n",
        "        ('Lorena', 19, 'small forward'),\n",
        "        ]"
      ]
    },
    {
      "cell_type": "code",
      "source": [
        "# Create a function to extract and names and positions from the team list and\n",
        "# format them to be printed. Returns a list.\n",
        "def player_position(player):\n",
        "  result = []\n",
        "  for name, age, position in team:\n",
        "    result.append('Name:{:>19} \\n position: {:>15}' .format(name, position))\n",
        "  return result"
      ],
      "metadata": {
        "id": "rkLA3DPJX7mi"
      },
      "execution_count": 3,
      "outputs": []
    },
    {
      "cell_type": "code",
      "source": [
        "# Loop over the list of formatted names and positions produced by\n",
        "# player_position() function and print them.\n",
        "for player in player_position(team):\n",
        "  print(player)"
      ],
      "metadata": {
        "colab": {
          "base_uri": "https://localhost:8080/"
        },
        "id": "Ou52sYk0YhT6",
        "outputId": "54c55b38-0613-4af9-9d1d-ccc5ff563308"
      },
      "execution_count": 5,
      "outputs": [
        {
          "output_type": "stream",
          "name": "stdout",
          "text": [
            "Name:              Marta \n",
            " position:          center\n",
            "Name:                Ana \n",
            " position:     point guard\n",
            "Name:               Gabi \n",
            " position:  shooting guard\n",
            "Name:                Luz \n",
            " position:   power forward\n",
            "Name:             Lorena \n",
            " position:   small forward\n"
          ]
        }
      ]
    },
    {
      "cell_type": "code",
      "source": [
        "# Create a list of dominoes, with each domino reprented as a tuple.\n",
        "dominoes = [(i, j) for i in range(7) for j in range(i, 7)]\n",
        "print(dominoes)"
      ],
      "metadata": {
        "colab": {
          "base_uri": "https://localhost:8080/"
        },
        "id": "IQDofcuQYzTH",
        "outputId": "15ac9142-e444-4df3-dc14-79b7e732bb3d"
      },
      "execution_count": 6,
      "outputs": [
        {
          "output_type": "stream",
          "name": "stdout",
          "text": [
            "[(0, 0), (0, 1), (0, 2), (0, 3), (0, 4), (0, 5), (0, 6), (1, 1), (1, 2), (1, 3), (1, 4), (1, 5), (1, 6), (2, 2), (2, 3), (2, 4), (2, 5), (2, 6), (3, 3), (3, 4), (3, 5), (3, 6), (4, 4), (4, 5), (4, 6), (5, 5), (5, 6), (6, 6)]\n"
          ]
        }
      ]
    },
    {
      "cell_type": "code",
      "source": [
        "# Nested loops can produce the different combinations of pips (dots) in\n",
        "# a set of dominoes.\n",
        "for left in range(7):\n",
        "    for right in range(left, 7):\n",
        "        print(f\"[{left}|{right}]\" , end = \" \")\n",
        "    print('\\n')"
      ],
      "metadata": {
        "colab": {
          "base_uri": "https://localhost:8080/"
        },
        "id": "rEhWWHFKaf_z",
        "outputId": "b6fb171d-dc08-492a-d136-aa9f22142c2c"
      },
      "execution_count": 9,
      "outputs": [
        {
          "output_type": "stream",
          "name": "stdout",
          "text": [
            "[0|0] [0|1] [0|2] [0|3] [0|4] [0|5] [0|6] \n",
            "\n",
            "[1|1] [1|2] [1|3] [1|4] [1|5] [1|6] \n",
            "\n",
            "[2|2] [2|3] [2|4] [2|5] [2|6] \n",
            "\n",
            "[3|3] [3|4] [3|5] [3|6] \n",
            "\n",
            "[4|4] [4|5] [4|6] \n",
            "\n",
            "[5|5] [5|6] \n",
            "\n",
            "[6|6] \n",
            "\n"
          ]
        }
      ]
    },
    {
      "cell_type": "code",
      "source": [
        "# Create a list of dominoes, with each domino reprented as a tuple.\n",
        "dominoes = []\n",
        "for left in range(7):\n",
        "    for right in range(left, 7):\n",
        "        dominoes.append((left, right))\n",
        "dominoes"
      ],
      "metadata": {
        "colab": {
          "base_uri": "https://localhost:8080/"
        },
        "id": "6oV2V7OfcDzS",
        "outputId": "7ae8f198-82c7-4568-f6aa-3aa3edc44b6b"
      },
      "execution_count": 10,
      "outputs": [
        {
          "output_type": "execute_result",
          "data": {
            "text/plain": [
              "[(0, 0),\n",
              " (0, 1),\n",
              " (0, 2),\n",
              " (0, 3),\n",
              " (0, 4),\n",
              " (0, 5),\n",
              " (0, 6),\n",
              " (1, 1),\n",
              " (1, 2),\n",
              " (1, 3),\n",
              " (1, 4),\n",
              " (1, 5),\n",
              " (1, 6),\n",
              " (2, 2),\n",
              " (2, 3),\n",
              " (2, 4),\n",
              " (2, 5),\n",
              " (2, 6),\n",
              " (3, 3),\n",
              " (3, 4),\n",
              " (3, 5),\n",
              " (3, 6),\n",
              " (4, 4),\n",
              " (4, 5),\n",
              " (4, 6),\n",
              " (5, 5),\n",
              " (5, 6),\n",
              " (6, 6)]"
            ]
          },
          "metadata": {},
          "execution_count": 10
        }
      ]
    },
    {
      "cell_type": "code",
      "source": [
        "# Select index 1 of the tuple at index 4 in the list of dominoes.\n",
        "dominoes[4][1]"
      ],
      "metadata": {
        "colab": {
          "base_uri": "https://localhost:8080/"
        },
        "id": "5zRaP5YFcUMG",
        "outputId": "6e0c5fda-3f78-45e1-af0c-3b2cef3c06db"
      },
      "execution_count": 11,
      "outputs": [
        {
          "output_type": "execute_result",
          "data": {
            "text/plain": [
              "4"
            ]
          },
          "metadata": {},
          "execution_count": 11
        }
      ]
    },
    {
      "cell_type": "code",
      "source": [
        "# You can use a for loop to sum the pips on each domino and append\n",
        "# the sum to a new list.\n",
        "pips_from_loop = []\n",
        "for domino in dominoes:\n",
        "    pips_from_loop.append(domino[0] + domino[1])\n",
        "print(pips_from_loop)"
      ],
      "metadata": {
        "colab": {
          "base_uri": "https://localhost:8080/"
        },
        "id": "DlNpj308caEj",
        "outputId": "a6b23c99-bec7-4613-f5de-b8b7b78ac79c"
      },
      "execution_count": 12,
      "outputs": [
        {
          "output_type": "stream",
          "name": "stdout",
          "text": [
            "[0, 1, 2, 3, 4, 5, 6, 2, 3, 4, 5, 6, 7, 4, 5, 6, 7, 8, 6, 7, 8, 9, 8, 9, 10, 10, 11, 12]\n"
          ]
        }
      ]
    },
    {
      "cell_type": "code",
      "source": [
        "# A list comprehension produces the same result with less code.\n",
        "pips_from_list_comp = [domino[0] + domino[1] for domino in dominoes]\n",
        "pips_from_loop == pips_from_list_comp\n",
        "print(pips_from_list_comp)"
      ],
      "metadata": {
        "colab": {
          "base_uri": "https://localhost:8080/"
        },
        "id": "hQg2EXmFcj5X",
        "outputId": "7f1514e8-371f-42e2-9c56-08e0d2fea9bf"
      },
      "execution_count": 14,
      "outputs": [
        {
          "output_type": "stream",
          "name": "stdout",
          "text": [
            "[0, 1, 2, 3, 4, 5, 6, 2, 3, 4, 5, 6, 7, 4, 5, 6, 7, 8, 6, 7, 8, 9, 8, 9, 10, 10, 11, 12]\n"
          ]
        }
      ]
    }
  ]
}