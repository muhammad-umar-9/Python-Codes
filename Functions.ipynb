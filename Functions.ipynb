{
  "nbformat": 4,
  "nbformat_minor": 0,
  "metadata": {
    "colab": {
      "provenance": [],
      "authorship_tag": "ABX9TyMSKXSpTYuhdEmHAFQ9tzF/",
      "include_colab_link": true
    },
    "kernelspec": {
      "name": "python3",
      "display_name": "Python 3"
    },
    "language_info": {
      "name": "python"
    }
  },
  "cells": [
    {
      "cell_type": "markdown",
      "metadata": {
        "id": "view-in-github",
        "colab_type": "text"
      },
      "source": [
        "<a href=\"https://colab.research.google.com/github/muhammad-umar-9/Python-Codes/blob/main/Functions.ipynb\" target=\"_parent\"><img src=\"https://colab.research.google.com/assets/colab-badge.svg\" alt=\"Open In Colab\"/></a>"
      ]
    },
    {
      "cell_type": "code",
      "execution_count": 4,
      "metadata": {
        "colab": {
          "base_uri": "https://localhost:8080/"
        },
        "id": "fW1ngGUMX2KF",
        "outputId": "4dc24465-2886-432f-c04d-69d33b3ba16f"
      },
      "outputs": [
        {
          "output_type": "stream",
          "name": "stdout",
          "text": [
            "Hello James I\n",
            "am excited to learn Python\n"
          ]
        }
      ],
      "source": [
        "def greeting(name):\n",
        "  print(\"Hello \" + name +\" I\")\n",
        "  print(\"am excited to learn Python\")\n",
        "\n",
        "\n",
        "greeting(\"James\")"
      ]
    },
    {
      "cell_type": "code",
      "source": [
        "def triangle_area(height , base):\n",
        "  area = height * base /2\n",
        "  return area"
      ],
      "metadata": {
        "id": "opNWuo-BY-iE"
      },
      "execution_count": 6,
      "outputs": []
    },
    {
      "cell_type": "code",
      "source": [
        "print(\"Area of triangle is : \")\n",
        "triangle_area(10,10)"
      ],
      "metadata": {
        "colab": {
          "base_uri": "https://localhost:8080/"
        },
        "id": "_-0J6svGZsNu",
        "outputId": "b3488566-5263-4e10-ecb0-d8a3c7ffd1f2"
      },
      "execution_count": 8,
      "outputs": [
        {
          "output_type": "stream",
          "name": "stdout",
          "text": [
            "Area of triangle is : \n"
          ]
        },
        {
          "output_type": "execute_result",
          "data": {
            "text/plain": [
              "50.0"
            ]
          },
          "metadata": {},
          "execution_count": 8
        }
      ]
    },
    {
      "cell_type": "code",
      "source": [
        "#we can compute two areas and then add them\n",
        "triangle_a = triangle_area(12 , 13)\n",
        "triangle_b = triangle_area(12 , 13)\n",
        "total_sum = triangle_a + triangle_b\n",
        "print(total_sum)\n"
      ],
      "metadata": {
        "colab": {
          "base_uri": "https://localhost:8080/"
        },
        "id": "tMlCeXiZaL-Z",
        "outputId": "863600c1-5894-46f8-abd9-99b7a49487bf"
      },
      "execution_count": 10,
      "outputs": [
        {
          "output_type": "stream",
          "name": "stdout",
          "text": [
            "156.0\n"
          ]
        }
      ]
    },
    {
      "cell_type": "code",
      "source": [
        "#here we made functions to add total seconds\n",
        "def calculate_Second(hours , minutes , seconds):\n",
        "  total_seconds = hours * 3600 + minutes * 60 + seconds\n",
        "  return total_seconds"
      ],
      "metadata": {
        "id": "M3nk0eUGanE5"
      },
      "execution_count": 14,
      "outputs": []
    },
    {
      "cell_type": "code",
      "source": [
        "print(\"Total Seconds are : \")\n",
        "calculate_Second(10,10,10)"
      ],
      "metadata": {
        "colab": {
          "base_uri": "https://localhost:8080/"
        },
        "id": "t5lrII11a_RS",
        "outputId": "ce0287c8-3403-46ac-9854-fa7bab656bb8"
      },
      "execution_count": 15,
      "outputs": [
        {
          "output_type": "stream",
          "name": "stdout",
          "text": [
            "Total Seconds are : \n"
          ]
        },
        {
          "output_type": "execute_result",
          "data": {
            "text/plain": [
              "36610"
            ]
          },
          "metadata": {},
          "execution_count": 15
        }
      ]
    },
    {
      "cell_type": "code",
      "source": [
        "def lucky_number(name):\n",
        "  number = len(name)*5\n",
        "  print(\"hello: \" + name + \" Your lucky number is : \" + str(number))"
      ],
      "metadata": {
        "id": "6UxCU5tCbVH-"
      },
      "execution_count": 19,
      "outputs": []
    },
    {
      "cell_type": "code",
      "source": [
        "lucky_number(\"Omer Khan\")\n",
        "lucky_number(\"Muhammad Umar\")"
      ],
      "metadata": {
        "colab": {
          "base_uri": "https://localhost:8080/"
        },
        "id": "rYRlrCh2cGpn",
        "outputId": "985bf8bb-71a3-41de-d409-1c34023433b5"
      },
      "execution_count": 22,
      "outputs": [
        {
          "output_type": "stream",
          "name": "stdout",
          "text": [
            "hello: Omer Khan Your lucky number is : 45\n",
            "hello: Muhammad Umar Your lucky number is : 65\n"
          ]
        }
      ]
    },
    {
      "cell_type": "code",
      "source": [
        "# This code requests a number from the user and returns its factorial,\n",
        "# printing each iteration of the multiplication.\n",
        "a = input(); y = 1\n",
        "\n",
        "for i in range(int(a)):\n",
        "    y = y*(i+1)\n",
        "    print(y)"
      ],
      "metadata": {
        "colab": {
          "base_uri": "https://localhost:8080/"
        },
        "id": "5zT1YzESck9Z",
        "outputId": "7280ff7b-548c-4e6e-846e-b854e04f2852"
      },
      "execution_count": 23,
      "outputs": [
        {
          "output_type": "stream",
          "name": "stdout",
          "text": [
            "5\n",
            "1\n",
            "2\n",
            "6\n",
            "24\n",
            "120\n"
          ]
        }
      ]
    },
    {
      "cell_type": "code",
      "source": [
        "#Function For factorial\n",
        "def factorial(n):\n",
        "    if n == 0:\n",
        "        return 1\n",
        "    else:\n",
        "        return n * factorial(n-1)"
      ],
      "metadata": {
        "id": "kGcsSCT5cx9T"
      },
      "execution_count": 24,
      "outputs": []
    },
    {
      "cell_type": "code",
      "source": [
        "print(\"Your factorial is : \")\n",
        "factorial(5)"
      ],
      "metadata": {
        "colab": {
          "base_uri": "https://localhost:8080/"
        },
        "id": "aPcTbpaXc5K6",
        "outputId": "980ff561-9bfe-4d00-cad6-2d50b732ca15"
      },
      "execution_count": 25,
      "outputs": [
        {
          "output_type": "stream",
          "name": "stdout",
          "text": [
            "Your factorial is : \n"
          ]
        },
        {
          "output_type": "execute_result",
          "data": {
            "text/plain": [
              "120"
            ]
          },
          "metadata": {},
          "execution_count": 25
        }
      ]
    },
    {
      "cell_type": "code",
      "source": [
        "# This function takes an integer as an input and returns its factorial.\n",
        "def factorial(n):\n",
        "    # Exclude 0 as product, start with 1\n",
        "    y = 1\n",
        "    for i in range(int(n)):\n",
        "        y = y*(i+1)\n",
        "    return y\n",
        "\n",
        "# Enter a numerical value between 1-9 in the command line that appears.\n",
        "input_num = input()\n",
        "# Apply factorial function to an integer input\n",
        "print(factorial(input_num))"
      ],
      "metadata": {
        "colab": {
          "base_uri": "https://localhost:8080/"
        },
        "id": "jR3VWMSedFMt",
        "outputId": "57f17a87-a39b-41aa-9aa8-4ce28db86f83"
      },
      "execution_count": 26,
      "outputs": [
        {
          "output_type": "stream",
          "name": "stdout",
          "text": [
            "6\n",
            "720\n"
          ]
        }
      ]
    },
    {
      "cell_type": "code",
      "source": [
        "def seed_calculator(fountain_side, grass_width):\n",
        "    \"\"\"\n",
        "    Calculate number of kilograms of grass seed needed for\n",
        "    a border around a square fountain.\n",
        "\n",
        "        Parameters:\n",
        "            fountain_side (num): length of 1 side of fountain in meters\n",
        "            grass_width (num): width of grass border in meters\n",
        "\n",
        "        Returns:\n",
        "            seed (float): amount of seed (kg) needed for grass border\n",
        "    \"\"\"\n",
        "    # Area of fountain\n",
        "    fountain_area = fountain_side**2\n",
        "    # Total area\n",
        "    total_area = (fountain_side + 2 * grass_width)**2\n",
        "    # Area of grass border\n",
        "    grass_area = total_area - fountain_area\n",
        "    # Amount of seed needed (35 g/sq.m)\n",
        "    seed = grass_area * 35\n",
        "    # Convert to kg\n",
        "    seed = seed / 1000\n",
        "\n",
        "    return seed"
      ],
      "metadata": {
        "id": "P-kkeAnjdZVG"
      },
      "execution_count": 27,
      "outputs": []
    },
    {
      "cell_type": "code",
      "source": [
        "seed_calculator(10,5)"
      ],
      "metadata": {
        "colab": {
          "base_uri": "https://localhost:8080/"
        },
        "id": "bGnx1ljYddF9",
        "outputId": "b4b5b177-b6a4-4f71-aba2-6ed1c58ee77e"
      },
      "execution_count": 28,
      "outputs": [
        {
          "output_type": "execute_result",
          "data": {
            "text/plain": [
              "10.5"
            ]
          },
          "metadata": {},
          "execution_count": 28
        }
      ]
    },
    {
      "cell_type": "code",
      "source": [
        "#Comparison Operator\n",
        "print(10 > 5)\n",
        "print(10 < 5)\n",
        "print(10 == 5)\n",
        "print(10 != 5)\n",
        "print(10 >= 5)\n",
        "print(10 <= 5)"
      ],
      "metadata": {
        "colab": {
          "base_uri": "https://localhost:8080/"
        },
        "id": "BhaYRhWQdmPg",
        "outputId": "eb242037-fcc0-484b-ba27-8534b1485f74"
      },
      "execution_count": 29,
      "outputs": [
        {
          "output_type": "stream",
          "name": "stdout",
          "text": [
            "True\n",
            "False\n",
            "False\n",
            "True\n",
            "True\n",
            "False\n"
          ]
        }
      ]
    },
    {
      "cell_type": "code",
      "source": [
        "print(\"Dog\" == \"Dog\")\n",
        "print(\"Dog\" == \"Cat\")\n",
        "print(\"Dog\" != \"Cat\")"
      ],
      "metadata": {
        "colab": {
          "base_uri": "https://localhost:8080/"
        },
        "id": "lihDtBU3dvsi",
        "outputId": "79a8d3e5-55b7-4c1a-b754-6ba5cbb785d9"
      },
      "execution_count": 30,
      "outputs": [
        {
          "output_type": "stream",
          "name": "stdout",
          "text": [
            "True\n",
            "False\n",
            "True\n"
          ]
        }
      ]
    },
    {
      "cell_type": "code",
      "source": [
        "# Some operators cannot be used between different data types.\n",
        "print(1 < \"1\")"
      ],
      "metadata": {
        "colab": {
          "base_uri": "https://localhost:8080/",
          "height": 158
        },
        "id": "jravmV4ed9pj",
        "outputId": "4a121cf4-22a9-4330-9e18-bc6f7bae6ace"
      },
      "execution_count": 31,
      "outputs": [
        {
          "output_type": "error",
          "ename": "TypeError",
          "evalue": "'<' not supported between instances of 'int' and 'str'",
          "traceback": [
            "\u001b[0;31m---------------------------------------------------------------------------\u001b[0m",
            "\u001b[0;31mTypeError\u001b[0m                                 Traceback (most recent call last)",
            "\u001b[0;32m<ipython-input-31-46cc2171c791>\u001b[0m in \u001b[0;36m<cell line: 2>\u001b[0;34m()\u001b[0m\n\u001b[1;32m      1\u001b[0m \u001b[0;31m# Some operators cannot be used between different data types.\u001b[0m\u001b[0;34m\u001b[0m\u001b[0;34m\u001b[0m\u001b[0m\n\u001b[0;32m----> 2\u001b[0;31m \u001b[0mprint\u001b[0m\u001b[0;34m(\u001b[0m\u001b[0;36m1\u001b[0m \u001b[0;34m<\u001b[0m \u001b[0;34m\"1\"\u001b[0m\u001b[0;34m)\u001b[0m\u001b[0;34m\u001b[0m\u001b[0;34m\u001b[0m\u001b[0m\n\u001b[0m",
            "\u001b[0;31mTypeError\u001b[0m: '<' not supported between instances of 'int' and 'str'"
          ]
        }
      ]
    },
    {
      "cell_type": "code",
      "source": [
        "# Letters that occur earlier in the alphabet evaluate to less than letters from later in the alphabet.\n",
        "# BOTH sides of an `and` statement must be true to return True.\n",
        "print(\"Yellow\" > \"Cyan\" and \"Brown\" > \"Magenta\")"
      ],
      "metadata": {
        "colab": {
          "base_uri": "https://localhost:8080/"
        },
        "id": "wldbCV9oeAIe",
        "outputId": "db5ee047-dd63-4bcd-f93f-0c289f6a7d99"
      },
      "execution_count": 32,
      "outputs": [
        {
          "output_type": "stream",
          "name": "stdout",
          "text": [
            "False\n"
          ]
        }
      ]
    },
    {
      "cell_type": "code",
      "source": [
        "# An `or` statement will return True if EITHER side evaluates to True.\n",
        "print(25 > 50 or 1 != 2)"
      ],
      "metadata": {
        "colab": {
          "base_uri": "https://localhost:8080/"
        },
        "id": "c7C9KkfGeO5m",
        "outputId": "a9110a67-2c51-40e9-a516-7f321254f3d8"
      },
      "execution_count": 33,
      "outputs": [
        {
          "output_type": "stream",
          "name": "stdout",
          "text": [
            "True\n"
          ]
        }
      ]
    },
    {
      "cell_type": "code",
      "source": [
        "# `not` reverses Boolean evaluation of what follows it.\n",
        "print( not 42 == \"Answer\")"
      ],
      "metadata": {
        "colab": {
          "base_uri": "https://localhost:8080/"
        },
        "id": "-oqIHlIWeTYk",
        "outputId": "32788902-c672-40ba-c182-ea32315965a4"
      },
      "execution_count": 37,
      "outputs": [
        {
          "output_type": "stream",
          "name": "stdout",
          "text": [
            "True\n"
          ]
        }
      ]
    }
  ]
}