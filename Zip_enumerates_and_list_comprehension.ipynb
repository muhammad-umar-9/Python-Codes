{
  "nbformat": 4,
  "nbformat_minor": 0,
  "metadata": {
    "colab": {
      "provenance": [],
      "authorship_tag": "ABX9TyMln79KwAYuykRcWhh24FJH",
      "include_colab_link": true
    },
    "kernelspec": {
      "name": "python3",
      "display_name": "Python 3"
    },
    "language_info": {
      "name": "python"
    }
  },
  "cells": [
    {
      "cell_type": "markdown",
      "metadata": {
        "id": "view-in-github",
        "colab_type": "text"
      },
      "source": [
        "<a href=\"https://colab.research.google.com/github/muhammad-umar-9/Python-Codes/blob/main/Zip_enumerates_and_list_comprehension.ipynb\" target=\"_parent\"><img src=\"https://colab.research.google.com/assets/colab-badge.svg\" alt=\"Open In Colab\"/></a>"
      ]
    },
    {
      "cell_type": "code",
      "execution_count": 1,
      "metadata": {
        "colab": {
          "base_uri": "https://localhost:8080/"
        },
        "id": "ZCf3m7euxd-i",
        "outputId": "8d4b5116-65f3-494a-a99d-a7baa698833f"
      },
      "outputs": [
        {
          "output_type": "stream",
          "name": "stdout",
          "text": [
            "<zip object at 0x7d8ec0a34fc0>\n",
            "[('Paris', 'France'), ('Lagos', 'Nigeria'), ('Mumbai', 'India')]\n"
          ]
        }
      ],
      "source": [
        "cities = ['Paris', 'Lagos', 'Mumbai']\n",
        "countries = ['France', 'Nigeria', 'India']\n",
        "places = zip(cities, countries)\n",
        "\n",
        "\n",
        "print(places)\n",
        "print(list(places))"
      ]
    },
    {
      "cell_type": "code",
      "source": [
        "scientists = [('Nikola', 'Tesla'), ('Charles', 'Darwin'), ('Marie', 'Curie')]\n",
        "given_names, surnames = zip(*scientists)\n",
        "print(given_names)\n",
        "print(surnames)"
      ],
      "metadata": {
        "colab": {
          "base_uri": "https://localhost:8080/"
        },
        "id": "awdtBf70xy2a",
        "outputId": "6efd2369-9c29-44f7-8412-b8469b9c533d"
      },
      "execution_count": 2,
      "outputs": [
        {
          "output_type": "stream",
          "name": "stdout",
          "text": [
            "('Nikola', 'Charles', 'Marie')\n",
            "('Tesla', 'Darwin', 'Curie')\n"
          ]
        }
      ]
    },
    {
      "cell_type": "code",
      "source": [
        "letters = ['a', 'b', 'c']\n",
        "for index, letter in enumerate(letters):\n",
        "   print(index, letter)"
      ],
      "metadata": {
        "colab": {
          "base_uri": "https://localhost:8080/"
        },
        "id": "1flxnWAQyBzc",
        "outputId": "f5bf1705-e1d7-477a-df0a-170b5c2c7ef8"
      },
      "execution_count": 3,
      "outputs": [
        {
          "output_type": "stream",
          "name": "stdout",
          "text": [
            "0 a\n",
            "1 b\n",
            "2 c\n"
          ]
        }
      ]
    },
    {
      "cell_type": "code",
      "source": [
        "letters = ['a', 'b', 'c']\n",
        "for index, letter in enumerate(letters, 2):\n",
        "   print(index, letter)"
      ],
      "metadata": {
        "colab": {
          "base_uri": "https://localhost:8080/"
        },
        "id": "kqcJTrsLyPM3",
        "outputId": "566123bf-e94f-4fc2-ff2d-b318c4e84d64"
      },
      "execution_count": 4,
      "outputs": [
        {
          "output_type": "stream",
          "name": "stdout",
          "text": [
            "2 a\n",
            "3 b\n",
            "4 c\n"
          ]
        }
      ]
    },
    {
      "cell_type": "code",
      "source": [
        "numbers = [1, 2, 3, 4, 5]\n",
        "new_list = [x + 10 for x in numbers]\n",
        "print(new_list)"
      ],
      "metadata": {
        "colab": {
          "base_uri": "https://localhost:8080/"
        },
        "id": "pKXV6_v2yVkH",
        "outputId": "86aad013-4556-4df1-c621-9d4f7875ea01"
      },
      "execution_count": 5,
      "outputs": [
        {
          "output_type": "stream",
          "name": "stdout",
          "text": [
            "[11, 12, 13, 14, 15]\n"
          ]
        }
      ]
    },
    {
      "cell_type": "code",
      "source": [
        "words = ['Emotan', 'Amina', 'Ibeno', 'Sankwala']\n",
        "new_list = [(word[0], word[-1]) for word in words if len(word) > 5]\n",
        "print(new_list)"
      ],
      "metadata": {
        "colab": {
          "base_uri": "https://localhost:8080/"
        },
        "id": "dHEImQIiypld",
        "outputId": "030f5dae-0a69-4e8a-dcfd-e624896cb4a5"
      },
      "execution_count": 6,
      "outputs": [
        {
          "output_type": "stream",
          "name": "stdout",
          "text": [
            "[('E', 'n'), ('S', 'a')]\n"
          ]
        }
      ]
    }
  ]
}