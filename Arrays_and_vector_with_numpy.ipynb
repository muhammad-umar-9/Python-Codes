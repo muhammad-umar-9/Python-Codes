{
  "nbformat": 4,
  "nbformat_minor": 0,
  "metadata": {
    "colab": {
      "provenance": [],
      "authorship_tag": "ABX9TyPrpSP1zTGi/VSPueK0riYF",
      "include_colab_link": true
    },
    "kernelspec": {
      "name": "python3",
      "display_name": "Python 3"
    },
    "language_info": {
      "name": "python"
    }
  },
  "cells": [
    {
      "cell_type": "markdown",
      "metadata": {
        "id": "view-in-github",
        "colab_type": "text"
      },
      "source": [
        "<a href=\"https://colab.research.google.com/github/muhammad-umar-9/Python-Codes/blob/main/Arrays_and_vector_with_numpy.ipynb\" target=\"_parent\"><img src=\"https://colab.research.google.com/assets/colab-badge.svg\" alt=\"Open In Colab\"/></a>"
      ]
    },
    {
      "cell_type": "code",
      "execution_count": 37,
      "metadata": {
        "id": "B6JXLmzBmnGQ"
      },
      "outputs": [],
      "source": [
        "list_a = [ 2 , 4 ,8]\n",
        "list_b = [ 5 , 6 , 7]\n",
        "# we cannot multiply list elements by using just list-a * list-b\n",
        "#list_a * list_b"
      ]
    },
    {
      "cell_type": "code",
      "source": [
        "list_c =[]\n",
        "for i in list_a:\n",
        "  for j in list_b:\n",
        "    list_c.append(i*j)\n",
        "    print(list_c)"
      ],
      "metadata": {
        "colab": {
          "base_uri": "https://localhost:8080/"
        },
        "id": "tSLSgB3k4Mqn",
        "outputId": "71f9435b-5322-4b1d-faed-9b253e48c0c5"
      },
      "execution_count": 2,
      "outputs": [
        {
          "output_type": "stream",
          "name": "stdout",
          "text": [
            "[10]\n",
            "[10, 12]\n",
            "[10, 12, 14]\n",
            "[10, 12, 14, 20]\n",
            "[10, 12, 14, 20, 24]\n",
            "[10, 12, 14, 20, 24, 28]\n",
            "[10, 12, 14, 20, 24, 28, 40]\n",
            "[10, 12, 14, 20, 24, 28, 40, 48]\n",
            "[10, 12, 14, 20, 24, 28, 40, 48, 56]\n"
          ]
        }
      ]
    },
    {
      "cell_type": "code",
      "source": [
        "# To perform element-wise multiplication between two lists, you could\n",
        "# use a for loop.\n",
        "list_c = []\n",
        "for i in range(len(list_a)):\n",
        "    list_c.append(list_a[i] * list_b[i])\n",
        "\n",
        "list_c"
      ],
      "metadata": {
        "colab": {
          "base_uri": "https://localhost:8080/"
        },
        "id": "4NI7X0y64qtG",
        "outputId": "297bf3f1-ea48-4248-e122-0009cba3b967"
      },
      "execution_count": 3,
      "outputs": [
        {
          "output_type": "execute_result",
          "data": {
            "text/plain": [
              "[10, 24, 56]"
            ]
          },
          "metadata": {},
          "execution_count": 3
        }
      ]
    },
    {
      "cell_type": "code",
      "source": [
        "import numpy as np\n",
        "array_a = np.array(list_a)\n",
        "array_b = np.array(list_b)\n",
        "\n",
        "array_a * array_b"
      ],
      "metadata": {
        "colab": {
          "base_uri": "https://localhost:8080/"
        },
        "id": "3ajoOXiv4s1Z",
        "outputId": "e68f0d92-2865-4ff7-ef2a-ae873267f80d"
      },
      "execution_count": 4,
      "outputs": [
        {
          "output_type": "execute_result",
          "data": {
            "text/plain": [
              "array([10, 24, 56])"
            ]
          },
          "metadata": {},
          "execution_count": 4
        }
      ]
    },
    {
      "cell_type": "code",
      "source": [
        "# 1-D array\n",
        "#one-dimensional array is similar to a list.\n",
        "import numpy as np\n",
        "array_1d = np.array([1, 2, 3])\n",
        "array_1d"
      ],
      "metadata": {
        "colab": {
          "base_uri": "https://localhost:8080/"
        },
        "id": "E_dN1e8pA00J",
        "outputId": "3c47dc8e-e144-4b78-b3ef-fbd0e842656a"
      },
      "execution_count": 8,
      "outputs": [
        {
          "output_type": "execute_result",
          "data": {
            "text/plain": [
              "array([1, 2, 3])"
            ]
          },
          "metadata": {},
          "execution_count": 8
        }
      ]
    },
    {
      "cell_type": "code",
      "source": [
        "# 2-D array\n",
        "#two-dimensional array is similar to a table.\n",
        "import numpy as np\n",
        "array_2d = np.array([[1 , 2 ,3], [2 , 5 ,6]])\n",
        "array_2d"
      ],
      "metadata": {
        "colab": {
          "base_uri": "https://localhost:8080/"
        },
        "id": "6oiPL8nhA8nm",
        "outputId": "f5f22982-3c0b-49f9-b8d4-f6fdad8293c0"
      },
      "execution_count": 7,
      "outputs": [
        {
          "output_type": "execute_result",
          "data": {
            "text/plain": [
              "array([[1, 2, 3],\n",
              "       [2, 5, 6]])"
            ]
          },
          "metadata": {},
          "execution_count": 7
        }
      ]
    },
    {
      "cell_type": "code",
      "source": [
        "# 3-D array\n",
        "#three-dimensional array is similar to two tables.\n",
        "import numpy as np\n",
        "array_3d = np.array([[[1, 2], [3, 4]], [[5, 6], [7, 8]]])\n",
        "array_3d"
      ],
      "metadata": {
        "colab": {
          "base_uri": "https://localhost:8080/"
        },
        "id": "VgXb6WhJBWav",
        "outputId": "8d71ee80-a651-47ba-a846-a4551a49182a"
      },
      "execution_count": 9,
      "outputs": [
        {
          "output_type": "execute_result",
          "data": {
            "text/plain": [
              "array([[[1, 2],\n",
              "        [3, 4]],\n",
              "\n",
              "       [[5, 6],\n",
              "        [7, 8]]])"
            ]
          },
          "metadata": {},
          "execution_count": 9
        }
      ]
    },
    {
      "cell_type": "code",
      "source": [
        "#This creates an array of a designated shape that is pre-filled with zeros:\n",
        "import numpy as np\n",
        "np.zeros((2, 3))"
      ],
      "metadata": {
        "colab": {
          "base_uri": "https://localhost:8080/"
        },
        "id": "FNmRrql7Bsa-",
        "outputId": "9ad0864f-7c2e-44bf-e727-d6648a032043"
      },
      "execution_count": 1,
      "outputs": [
        {
          "output_type": "execute_result",
          "data": {
            "text/plain": [
              "array([[0., 0., 0.],\n",
              "       [0., 0., 0.]])"
            ]
          },
          "metadata": {},
          "execution_count": 1
        }
      ]
    },
    {
      "cell_type": "code",
      "source": [
        "import numpy as np\n",
        "np.zeros((2, 3, 4))"
      ],
      "metadata": {
        "colab": {
          "base_uri": "https://localhost:8080/"
        },
        "id": "np73kJYpZKK8",
        "outputId": "9f05fd5c-a396-4fc3-8421-eb6bd010674a"
      },
      "execution_count": 2,
      "outputs": [
        {
          "output_type": "execute_result",
          "data": {
            "text/plain": [
              "array([[[0., 0., 0., 0.],\n",
              "        [0., 0., 0., 0.],\n",
              "        [0., 0., 0., 0.]],\n",
              "\n",
              "       [[0., 0., 0., 0.],\n",
              "        [0., 0., 0., 0.],\n",
              "        [0., 0., 0., 0.]]])"
            ]
          },
          "metadata": {},
          "execution_count": 2
        }
      ]
    },
    {
      "cell_type": "code",
      "source": [
        "#This creates an array of a designated shape that is pre-filled with ones:\n",
        "import numpy as np\n",
        "np.ones((3, 3))"
      ],
      "metadata": {
        "colab": {
          "base_uri": "https://localhost:8080/"
        },
        "id": "0DhKUAsUZUOS",
        "outputId": "94eec43c-cd66-4e60-be5f-2b703357d746"
      },
      "execution_count": 3,
      "outputs": [
        {
          "output_type": "execute_result",
          "data": {
            "text/plain": [
              "array([[1., 1., 1.],\n",
              "       [1., 1., 1.],\n",
              "       [1., 1., 1.]])"
            ]
          },
          "metadata": {},
          "execution_count": 3
        }
      ]
    },
    {
      "cell_type": "code",
      "source": [
        "#this creates an array of a designated shape that is pre-filled with a specified value:\n",
        "import numpy as np\n",
        "np.full((3, 3), 5)"
      ],
      "metadata": {
        "colab": {
          "base_uri": "https://localhost:8080/"
        },
        "id": "-uNZevRyZdt_",
        "outputId": "0b21500f-ece9-4568-a58a-d5e15ffef00c"
      },
      "execution_count": 4,
      "outputs": [
        {
          "output_type": "execute_result",
          "data": {
            "text/plain": [
              "array([[5, 5, 5],\n",
              "       [5, 5, 5],\n",
              "       [5, 5, 5]])"
            ]
          },
          "metadata": {},
          "execution_count": 4
        }
      ]
    },
    {
      "cell_type": "code",
      "source": [
        "#                                                         ARRAY METHODS\n",
        "#This returns a copy of the array collapsed into one dimension.\n",
        "import numpy as np\n",
        "array_1d = np.array([1, 2, 3])\n",
        "array_1d.flatten()"
      ],
      "metadata": {
        "colab": {
          "base_uri": "https://localhost:8080/"
        },
        "id": "s4I-lmJgZjla",
        "outputId": "834f9c38-f0ea-4988-c6ac-148a5adb3143"
      },
      "execution_count": 5,
      "outputs": [
        {
          "output_type": "execute_result",
          "data": {
            "text/plain": [
              "array([1, 2, 3])"
            ]
          },
          "metadata": {},
          "execution_count": 5
        }
      ]
    },
    {
      "cell_type": "code",
      "source": [
        "array_2d = np.array([(1, 2, 3), (4, 5, 6)])\n",
        "print(array_2d)\n",
        "print()\n",
        "array_2d.flatten()"
      ],
      "metadata": {
        "colab": {
          "base_uri": "https://localhost:8080/"
        },
        "id": "3tZdn0p4Z5XK",
        "outputId": "392b5f59-9f19-45b6-fdf7-13e1acfe672c"
      },
      "execution_count": 6,
      "outputs": [
        {
          "output_type": "stream",
          "name": "stdout",
          "text": [
            "[[1 2 3]\n",
            " [4 5 6]]\n",
            "\n"
          ]
        },
        {
          "output_type": "execute_result",
          "data": {
            "text/plain": [
              "array([1, 2, 3, 4, 5, 6])"
            ]
          },
          "metadata": {},
          "execution_count": 6
        }
      ]
    },
    {
      "cell_type": "code",
      "source": [
        "#This gives a new shape to an array without changing its data.\n",
        "import numpy as np\n",
        "array_1d = np.array([1, 2, 3])\n",
        "array_1d.reshape((3, 1))"
      ],
      "metadata": {
        "colab": {
          "base_uri": "https://localhost:8080/"
        },
        "id": "DNMO7GT4al4L",
        "outputId": "912d7abd-5d13-45ea-82d9-dd094aa5e024"
      },
      "execution_count": 9,
      "outputs": [
        {
          "output_type": "execute_result",
          "data": {
            "text/plain": [
              "array([[1],\n",
              "       [2],\n",
              "       [3]])"
            ]
          },
          "metadata": {},
          "execution_count": 9
        }
      ]
    },
    {
      "cell_type": "code",
      "source": [
        "array_1d.reshape((1, 3))"
      ],
      "metadata": {
        "colab": {
          "base_uri": "https://localhost:8080/"
        },
        "id": "fHTBJSCBaxWj",
        "outputId": "4eaa6cad-95ef-4ee0-c746-b0d765a64e78"
      },
      "execution_count": 10,
      "outputs": [
        {
          "output_type": "execute_result",
          "data": {
            "text/plain": [
              "array([[1, 2, 3]])"
            ]
          },
          "metadata": {},
          "execution_count": 10
        }
      ]
    },
    {
      "cell_type": "code",
      "source": [
        "array_2d = np.array([(1, 2, 3), (4, 5, 6)])\n",
        "print(array_2d)\n",
        "print()\n",
        "array_2d.reshape(3, 2)"
      ],
      "metadata": {
        "colab": {
          "base_uri": "https://localhost:8080/"
        },
        "id": "gl0YanoIa3Z-",
        "outputId": "4c146ac5-27a8-4479-82ef-9c36c4910286"
      },
      "execution_count": 11,
      "outputs": [
        {
          "output_type": "stream",
          "name": "stdout",
          "text": [
            "[[1 2 3]\n",
            " [4 5 6]]\n",
            "\n"
          ]
        },
        {
          "output_type": "execute_result",
          "data": {
            "text/plain": [
              "array([[1, 2],\n",
              "       [3, 4],\n",
              "       [5, 6]])"
            ]
          },
          "metadata": {},
          "execution_count": 11
        }
      ]
    },
    {
      "cell_type": "code",
      "source": [
        "array_2d.reshape(2, 3)"
      ],
      "metadata": {
        "colab": {
          "base_uri": "https://localhost:8080/"
        },
        "id": "S8e8BbFga7hi",
        "outputId": "9649237f-1cba-46d0-8fe8-693f56d716e9"
      },
      "execution_count": 12,
      "outputs": [
        {
          "output_type": "execute_result",
          "data": {
            "text/plain": [
              "array([[1, 2, 3],\n",
              "       [4, 5, 6]])"
            ]
          },
          "metadata": {},
          "execution_count": 12
        }
      ]
    },
    {
      "cell_type": "code",
      "source": [
        "#This converts an array to a list object. Multidimensional arrays are converted to nested lists.\n",
        "import numpy as np\n",
        "array_1d = np.array([1, 2, 3])\n",
        "array_1d.tolist()"
      ],
      "metadata": {
        "colab": {
          "base_uri": "https://localhost:8080/"
        },
        "id": "RisNFSPBbNUV",
        "outputId": "44365adb-a158-4387-e945-827e9251db9a"
      },
      "execution_count": 13,
      "outputs": [
        {
          "output_type": "execute_result",
          "data": {
            "text/plain": [
              "[1, 2, 3]"
            ]
          },
          "metadata": {},
          "execution_count": 13
        }
      ]
    },
    {
      "cell_type": "code",
      "source": [
        "array_2d = np.array([(1, 2, 3), (4, 5, 6)])\n",
        "print(array_2d)\n",
        "print()\n",
        "array_2d.tolist()"
      ],
      "metadata": {
        "colab": {
          "base_uri": "https://localhost:8080/"
        },
        "id": "REvHEgCKbgeJ",
        "outputId": "fd0b7a28-3169-4d6a-e5e7-37dcc9aa5ef5"
      },
      "execution_count": 14,
      "outputs": [
        {
          "output_type": "stream",
          "name": "stdout",
          "text": [
            "[[1 2 3]\n",
            " [4 5 6]]\n",
            "\n"
          ]
        },
        {
          "output_type": "execute_result",
          "data": {
            "text/plain": [
              "[[1, 2, 3], [4, 5, 6]]"
            ]
          },
          "metadata": {},
          "execution_count": 14
        }
      ]
    },
    {
      "cell_type": "code",
      "source": [
        "#                                                   Mathematical functions\n",
        "#returns the maximum value in the array or along a specified axis.\n",
        "# returns the mean of all the values in the array or along a specified axis.\n",
        "# returns the minimum value in the array or along a specified axis.\n",
        "# returns the standard deviation of all the values in the array or along a specified axis.\n",
        "# returns the sum of all the values in the array or along a specified axis.\n",
        "# returns the product of all the values in the array or along a specified axis.\n",
        "# returns the cumulative sum of all the values in the array or along a specified axis.\n",
        "# returns the cumulative product of all the values in the array or along a specified axis.\n",
        "# returns the index of the maximum value in the array or along a specified axis.\n",
        "# returns the index of the minimum value in the array or along a specified axis.\n",
        "a = np.array([(1, 2, 3), (4, 5, 6)])\n",
        "print(a)\n",
        "\n",
        "print(a.max())\n",
        "print(a.mean())\n",
        "print(a.min())\n",
        "print(a.std())\n",
        "print(a.sum())\n",
        "print(a.prod())\n",
        "print(a.cumsum())\n",
        "print(a.cumprod())\n",
        "print(a.argmax())\n",
        "print(a.argmin())"
      ],
      "metadata": {
        "colab": {
          "base_uri": "https://localhost:8080/"
        },
        "id": "3IlOsb0qgIpv",
        "outputId": "9bb43a34-3033-496b-d244-00d06052ba6d"
      },
      "execution_count": 21,
      "outputs": [
        {
          "output_type": "stream",
          "name": "stdout",
          "text": [
            "[[1 2 3]\n",
            " [4 5 6]]\n",
            "6\n",
            "3.5\n",
            "1\n",
            "1.707825127659933\n",
            "21\n",
            "720\n",
            "[ 1  3  6 10 15 21]\n",
            "[  1   2   6  24 120 720]\n",
            "5\n",
            "0\n"
          ]
        }
      ]
    },
    {
      "cell_type": "code",
      "source": [
        "#                                                                     Array attributes\n",
        "# returns a tuple of the array’s dimensions.\n",
        "#returns the data type of the array’s contents.\n",
        "#returns the total number of elements in the array.\n",
        "#returns the array transposed (rows become columns, columns become rows).\n",
        "\n",
        "\n",
        "array_2d = np.array([(1, 2, 3), (4, 5, 6)])\n",
        "print(array_2d)\n",
        "print()\n",
        "\n",
        "print(array_2d.shape)\n",
        "print(array_2d.dtype)\n",
        "print(array_2d.size)\n",
        "print(array_2d.T)"
      ],
      "metadata": {
        "colab": {
          "base_uri": "https://localhost:8080/"
        },
        "id": "DPV8HOx-hFAa",
        "outputId": "112fb874-089f-4646-8927-5fc9af663a77"
      },
      "execution_count": 22,
      "outputs": [
        {
          "output_type": "stream",
          "name": "stdout",
          "text": [
            "[[1 2 3]\n",
            " [4 5 6]]\n",
            "\n",
            "(2, 3)\n",
            "int64\n",
            "6\n",
            "[[1 4]\n",
            " [2 5]\n",
            " [3 6]]\n"
          ]
        }
      ]
    },
    {
      "cell_type": "code",
      "source": [
        "#                                                             Indexing and slicing\n",
        "a = np.array([(1, 2, 3), (4, 5, 6)])\n",
        "\n",
        "print(a[0])\n",
        "print(\"   \")\n",
        "print(a[1])\n",
        "print(\"   \")\n",
        "print(a[0, 1])\n",
        "print(a[1, 2])\n",
        "\n",
        "print(a[0][1])\n",
        "print(\"   \")\n",
        "print(a[1][2])"
      ],
      "metadata": {
        "colab": {
          "base_uri": "https://localhost:8080/"
        },
        "id": "ytpRsT8DhmcO",
        "outputId": "61d15154-a45a-4097-8cf2-5166c99dedae"
      },
      "execution_count": 30,
      "outputs": [
        {
          "output_type": "stream",
          "name": "stdout",
          "text": [
            "[1 2 3]\n",
            "   \n",
            "[4 5 6]\n",
            "   \n",
            "2\n",
            "6\n",
            "2\n",
            "   \n",
            "6\n"
          ]
        }
      ]
    },
    {
      "cell_type": "code",
      "source": [
        "#Slicing may also be used to access subarrays of a NumPy array:\n",
        "a = np.array([(1, 2, 3), (4, 5, 6)])\n",
        "\n",
        "\n",
        "a[:, 1:]"
      ],
      "metadata": {
        "colab": {
          "base_uri": "https://localhost:8080/"
        },
        "id": "oGLAY5xniZhm",
        "outputId": "b89a8ea6-c6e3-4305-f0dd-a70be5b0969d"
      },
      "execution_count": 32,
      "outputs": [
        {
          "output_type": "execute_result",
          "data": {
            "text/plain": [
              "array([[2, 3],\n",
              "       [5, 6]])"
            ]
          },
          "metadata": {},
          "execution_count": 32
        }
      ]
    },
    {
      "cell_type": "code",
      "source": [
        "#                                                           Array operations\n",
        "#addition and subtraction\n",
        "#multiplication and division\n",
        "\n",
        "a = np.array([(1, 2, 3), (4, 5, 6)])\n",
        "b = np.array([[1, 2, 3], [1, 2, 3]])\n",
        "print('a:')\n",
        "print(a)\n",
        "print()\n",
        "print('b:')\n",
        "print(b)\n",
        "print()\n",
        "print('a + b:')\n",
        "print(a + b)\n",
        "print()\n",
        "print('a * b:')\n",
        "print(a * b)"
      ],
      "metadata": {
        "colab": {
          "base_uri": "https://localhost:8080/"
        },
        "id": "YsjhZlYNiqBM",
        "outputId": "36fc287d-fc52-4d98-ecf4-88a000dc8a45"
      },
      "execution_count": 33,
      "outputs": [
        {
          "output_type": "stream",
          "name": "stdout",
          "text": [
            "a:\n",
            "[[1 2 3]\n",
            " [4 5 6]]\n",
            "\n",
            "b:\n",
            "[[1 2 3]\n",
            " [1 2 3]]\n",
            "\n",
            "a + b:\n",
            "[[2 4 6]\n",
            " [5 7 9]]\n",
            "\n",
            "a * b:\n",
            "[[ 1  4  9]\n",
            " [ 4 10 18]]\n"
          ]
        }
      ]
    },
    {
      "cell_type": "code",
      "source": [
        "#                                                       Mutability\n",
        "\n",
        "\n",
        "a = np.array([(1, 2), (3, 4)])\n",
        "print(a)\n",
        "print()\n",
        "\n",
        "a[1][1] = 100\n",
        "a"
      ],
      "metadata": {
        "colab": {
          "base_uri": "https://localhost:8080/"
        },
        "id": "eZi_P4OyjEUZ",
        "outputId": "969c4c49-427f-4c05-a2e3-57c73dba41b4"
      },
      "execution_count": 34,
      "outputs": [
        {
          "output_type": "stream",
          "name": "stdout",
          "text": [
            "[[1 2]\n",
            " [3 4]]\n",
            "\n"
          ]
        },
        {
          "output_type": "execute_result",
          "data": {
            "text/plain": [
              "array([[  1,   2],\n",
              "       [  3, 100]])"
            ]
          },
          "metadata": {},
          "execution_count": 34
        }
      ]
    },
    {
      "cell_type": "code",
      "source": [
        "a = np.array([1, 2, 3])\n",
        "print(a)\n",
        "print()\n",
        "\n",
        "a[3] = 100\n",
        "a"
      ],
      "metadata": {
        "colab": {
          "base_uri": "https://localhost:8080/",
          "height": 228
        },
        "id": "qoEiNGScjS8V",
        "outputId": "4aa33de6-66be-4492-c200-9069144bc1cd"
      },
      "execution_count": 35,
      "outputs": [
        {
          "output_type": "stream",
          "name": "stdout",
          "text": [
            "[1 2 3]\n",
            "\n"
          ]
        },
        {
          "output_type": "error",
          "ename": "IndexError",
          "evalue": "index 3 is out of bounds for axis 0 with size 3",
          "traceback": [
            "\u001b[0;31m---------------------------------------------------------------------------\u001b[0m",
            "\u001b[0;31mIndexError\u001b[0m                                Traceback (most recent call last)",
            "\u001b[0;32m<ipython-input-35-a6f90a0bae00>\u001b[0m in \u001b[0;36m<cell line: 5>\u001b[0;34m()\u001b[0m\n\u001b[1;32m      3\u001b[0m \u001b[0mprint\u001b[0m\u001b[0;34m(\u001b[0m\u001b[0;34m)\u001b[0m\u001b[0;34m\u001b[0m\u001b[0;34m\u001b[0m\u001b[0m\n\u001b[1;32m      4\u001b[0m \u001b[0;34m\u001b[0m\u001b[0m\n\u001b[0;32m----> 5\u001b[0;31m \u001b[0ma\u001b[0m\u001b[0;34m[\u001b[0m\u001b[0;36m3\u001b[0m\u001b[0;34m]\u001b[0m \u001b[0;34m=\u001b[0m \u001b[0;36m100\u001b[0m\u001b[0;34m\u001b[0m\u001b[0;34m\u001b[0m\u001b[0m\n\u001b[0m\u001b[1;32m      6\u001b[0m \u001b[0ma\u001b[0m\u001b[0;34m\u001b[0m\u001b[0;34m\u001b[0m\u001b[0m\n",
            "\u001b[0;31mIndexError\u001b[0m: index 3 is out of bounds for axis 0 with size 3"
          ]
        }
      ]
    }
  ]
}