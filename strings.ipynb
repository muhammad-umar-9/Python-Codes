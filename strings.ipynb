{
  "nbformat": 4,
  "nbformat_minor": 0,
  "metadata": {
    "colab": {
      "provenance": [],
      "authorship_tag": "ABX9TyPuw4S5fEEzPaVEgvsY/kWa",
      "include_colab_link": true
    },
    "kernelspec": {
      "name": "python3",
      "display_name": "Python 3"
    },
    "language_info": {
      "name": "python"
    }
  },
  "cells": [
    {
      "cell_type": "markdown",
      "metadata": {
        "id": "view-in-github",
        "colab_type": "text"
      },
      "source": [
        "<a href=\"https://colab.research.google.com/github/muhammad-umar-9/Python-Codes/blob/main/strings.ipynb\" target=\"_parent\"><img src=\"https://colab.research.google.com/assets/colab-badge.svg\" alt=\"Open In Colab\"/></a>"
      ]
    },
    {
      "cell_type": "code",
      "execution_count": null,
      "metadata": {
        "colab": {
          "base_uri": "https://localhost:8080/",
          "height": 35
        },
        "id": "OOcYspEc8Tk3",
        "outputId": "5a4fc88e-9272-49b2-b8c3-e09bc74b8043"
      },
      "outputs": [
        {
          "output_type": "execute_result",
          "data": {
            "text/plain": [
              "'Hello World'"
            ],
            "application/vnd.google.colaboratory.intrinsic+json": {
              "type": "string"
            }
          },
          "metadata": {},
          "execution_count": 1
        }
      ],
      "source": [
        "'Hello ' + 'World'"
      ]
    },
    {
      "cell_type": "code",
      "source": [
        "greeting1 = 'Hello'\n",
        "greeting2 = 'World'\n",
        "greeting1 + ' ' + greeting2"
      ],
      "metadata": {
        "colab": {
          "base_uri": "https://localhost:8080/",
          "height": 35
        },
        "id": "MGNIwxPT9O4N",
        "outputId": "ae2a685a-db23-41f5-ba9b-b822503cd639"
      },
      "execution_count": null,
      "outputs": [
        {
          "output_type": "execute_result",
          "data": {
            "text/plain": [
              "'Hello World'"
            ],
            "application/vnd.google.colaboratory.intrinsic+json": {
              "type": "string"
            }
          },
          "metadata": {},
          "execution_count": 2
        }
      ]
    },
    {
      "cell_type": "code",
      "source": [
        "#we cannot divide and subtract strings\n",
        "greeting = 'Hello '\n",
        "n = 3 * greeting\n",
        "print(n)"
      ],
      "metadata": {
        "colab": {
          "base_uri": "https://localhost:8080/"
        },
        "id": "n9AUmvbs9nlr",
        "outputId": "3902d940-ac7a-4019-9438-734dc9683a75"
      },
      "execution_count": null,
      "outputs": [
        {
          "output_type": "stream",
          "name": "stdout",
          "text": [
            "Hello Hello Hello \n"
          ]
        }
      ]
    },
    {
      "cell_type": "code",
      "source": [
        "greeting = \"good_day , \\n good_night\"\n",
        "print(greeting)"
      ],
      "metadata": {
        "colab": {
          "base_uri": "https://localhost:8080/"
        },
        "id": "pBRJIC19_P9J",
        "outputId": "d9342a55-2166-45bc-bc23-28ba3e08d467"
      },
      "execution_count": null,
      "outputs": [
        {
          "output_type": "stream",
          "name": "stdout",
          "text": [
            "good_day , \n",
            " good_night\n"
          ]
        }
      ]
    },
    {
      "cell_type": "code",
      "source": [
        "python = 'python'\n",
        "for letter in python:\n",
        "    print(letter + 'ut')"
      ],
      "metadata": {
        "colab": {
          "base_uri": "https://localhost:8080/"
        },
        "id": "OdLWmuc__sG5",
        "outputId": "b4a43325-8bac-488a-ab79-bd58eeb50e20"
      },
      "execution_count": null,
      "outputs": [
        {
          "output_type": "stream",
          "name": "stdout",
          "text": [
            "put\n",
            "yut\n",
            "tut\n",
            "hut\n",
            "out\n",
            "nut\n"
          ]
        }
      ]
    },
    {
      "cell_type": "code",
      "source": [
        "#here it will return o index of horse not dog\n",
        "#index method just return the start position which matches\n",
        "pet = 'horse and dog'\n",
        "pet.index('o')"
      ],
      "metadata": {
        "colab": {
          "base_uri": "https://localhost:8080/"
        },
        "id": "D5Tc7lEcncTW",
        "outputId": "ddaf0d84-fc1f-4815-f714-36dbd9d18f20"
      },
      "execution_count": 1,
      "outputs": [
        {
          "output_type": "execute_result",
          "data": {
            "text/plain": [
              "1"
            ]
          },
          "metadata": {},
          "execution_count": 1
        }
      ]
    },
    {
      "cell_type": "code",
      "source": [
        "#we can also acess the character by writing index number\n",
        "pet[0]"
      ],
      "metadata": {
        "colab": {
          "base_uri": "https://localhost:8080/",
          "height": 35
        },
        "id": "tDIHsaqxo0OX",
        "outputId": "ec266e3e-24b0-4b2e-c168-50ef06d66095"
      },
      "execution_count": 2,
      "outputs": [
        {
          "output_type": "execute_result",
          "data": {
            "text/plain": [
              "'h'"
            ],
            "application/vnd.google.colaboratory.intrinsic+json": {
              "type": "string"
            }
          },
          "metadata": {},
          "execution_count": 2
        }
      ]
    },
    {
      "cell_type": "code",
      "source": [
        "pet[6]"
      ],
      "metadata": {
        "colab": {
          "base_uri": "https://localhost:8080/",
          "height": 35
        },
        "id": "acnEcSTMo9A9",
        "outputId": "d96fb413-352d-4b93-956d-6f862676da6d"
      },
      "execution_count": 3,
      "outputs": [
        {
          "output_type": "execute_result",
          "data": {
            "text/plain": [
              "'a'"
            ],
            "application/vnd.google.colaboratory.intrinsic+json": {
              "type": "string"
            }
          },
          "metadata": {},
          "execution_count": 3
        }
      ]
    },
    {
      "cell_type": "code",
      "source": [
        "#we can find last letter\n",
        "pet[-1]"
      ],
      "metadata": {
        "colab": {
          "base_uri": "https://localhost:8080/",
          "height": 35
        },
        "id": "9LIH47v1pgvG",
        "outputId": "f1de23d0-8592-41be-841a-f4bdba124d72"
      },
      "execution_count": 4,
      "outputs": [
        {
          "output_type": "execute_result",
          "data": {
            "text/plain": [
              "'g'"
            ],
            "application/vnd.google.colaboratory.intrinsic+json": {
              "type": "string"
            }
          },
          "metadata": {},
          "execution_count": 4
        }
      ]
    },
    {
      "cell_type": "code",
      "source": [
        "pet[-3]"
      ],
      "metadata": {
        "colab": {
          "base_uri": "https://localhost:8080/",
          "height": 35
        },
        "id": "FWaDWhympuHQ",
        "outputId": "b2f73c6b-4647-4ddb-d3f5-34b5bb89d8d3"
      },
      "execution_count": 5,
      "outputs": [
        {
          "output_type": "execute_result",
          "data": {
            "text/plain": [
              "'d'"
            ],
            "application/vnd.google.colaboratory.intrinsic+json": {
              "type": "string"
            }
          },
          "metadata": {},
          "execution_count": 5
        }
      ]
    },
    {
      "cell_type": "code",
      "source": [
        "#string slicing\n",
        "pet[0:3]"
      ],
      "metadata": {
        "colab": {
          "base_uri": "https://localhost:8080/",
          "height": 35
        },
        "id": "LriHyc6stRD0",
        "outputId": "0b5205ef-587a-47df-ff62-50c4303921b9"
      },
      "execution_count": 6,
      "outputs": [
        {
          "output_type": "execute_result",
          "data": {
            "text/plain": [
              "'hor'"
            ],
            "application/vnd.google.colaboratory.intrinsic+json": {
              "type": "string"
            }
          },
          "metadata": {},
          "execution_count": 6
        }
      ]
    },
    {
      "cell_type": "code",
      "source": [
        "pet[:5]"
      ],
      "metadata": {
        "colab": {
          "base_uri": "https://localhost:8080/",
          "height": 35
        },
        "id": "c65BlvnutVU1",
        "outputId": "f1bf9099-f6c9-4b76-b13f-f08fbe9f9187"
      },
      "execution_count": 7,
      "outputs": [
        {
          "output_type": "execute_result",
          "data": {
            "text/plain": [
              "'horse'"
            ],
            "application/vnd.google.colaboratory.intrinsic+json": {
              "type": "string"
            }
          },
          "metadata": {},
          "execution_count": 7
        }
      ]
    },
    {
      "cell_type": "code",
      "source": [
        "pet[9:]"
      ],
      "metadata": {
        "colab": {
          "base_uri": "https://localhost:8080/",
          "height": 35
        },
        "id": "cYc3RsG5tY6l",
        "outputId": "b1713ecb-10e0-49fc-b706-f2d0f4de1704"
      },
      "execution_count": 8,
      "outputs": [
        {
          "output_type": "execute_result",
          "data": {
            "text/plain": [
              "' dog'"
            ],
            "application/vnd.google.colaboratory.intrinsic+json": {
              "type": "string"
            }
          },
          "metadata": {},
          "execution_count": 8
        }
      ]
    },
    {
      "cell_type": "code",
      "source": [
        "'cat' in pet"
      ],
      "metadata": {
        "colab": {
          "base_uri": "https://localhost:8080/"
        },
        "id": "n0TKrbqqtmjR",
        "outputId": "88013cc2-ab94-45ba-9cf6-6a18e580c759"
      },
      "execution_count": 9,
      "outputs": [
        {
          "output_type": "execute_result",
          "data": {
            "text/plain": [
              "False"
            ]
          },
          "metadata": {},
          "execution_count": 9
        }
      ]
    },
    {
      "cell_type": "code",
      "source": [
        "'dog' in pet"
      ],
      "metadata": {
        "colab": {
          "base_uri": "https://localhost:8080/"
        },
        "id": "GljcF-lRtrUX",
        "outputId": "f6cd3107-3ae6-445c-c44f-b32874f0cd9d"
      },
      "execution_count": 10,
      "outputs": [
        {
          "output_type": "execute_result",
          "data": {
            "text/plain": [
              "True"
            ]
          },
          "metadata": {},
          "execution_count": 10
        }
      ]
    },
    {
      "cell_type": "code",
      "source": [
        "'Dog' in pet"
      ],
      "metadata": {
        "colab": {
          "base_uri": "https://localhost:8080/"
        },
        "id": "01B3oaOxtvQZ",
        "outputId": "8b07b506-ba03-4e47-de03-9999ca9c9fbb"
      },
      "execution_count": 11,
      "outputs": [
        {
          "output_type": "execute_result",
          "data": {
            "text/plain": [
              "False"
            ]
          },
          "metadata": {},
          "execution_count": 11
        }
      ]
    },
    {
      "cell_type": "code",
      "source": [
        "name = 'Umar'\n",
        "num = 900\n",
        "print('your name{} , Your lucky number is {}'. format(name , num))"
      ],
      "metadata": {
        "colab": {
          "base_uri": "https://localhost:8080/"
        },
        "id": "AUkzqIkEvsYg",
        "outputId": "50c4e229-6c2e-4646-b384-e07f1b326dc9"
      },
      "execution_count": 14,
      "outputs": [
        {
          "output_type": "stream",
          "name": "stdout",
          "text": [
            "your nameUmar , Your lucky number is 900\n"
          ]
        }
      ]
    },
    {
      "cell_type": "code",
      "source": [
        "name = 'Umar'\n",
        "number = 900\n",
        "print('your {name} , Your lucky number is {num}'. format(num = number , name = name ))"
      ],
      "metadata": {
        "colab": {
          "base_uri": "https://localhost:8080/"
        },
        "id": "OGd_Ji8JwNd4",
        "outputId": "e5f53d20-e95b-4f86-c16a-e06b8735657b"
      },
      "execution_count": 17,
      "outputs": [
        {
          "output_type": "stream",
          "name": "stdout",
          "text": [
            "your Umar , Your lucky number is 900\n"
          ]
        }
      ]
    },
    {
      "cell_type": "code",
      "source": [
        "price = 10\n",
        "with_tax = price * 0.5\n",
        "print('price is {:.2f} and tax is{:.2f} '. format(price , with_tax))"
      ],
      "metadata": {
        "colab": {
          "base_uri": "https://localhost:8080/"
        },
        "id": "MO2VE_kQxaUd",
        "outputId": "34fbe150-6542-47bd-da92-b34ee0c42f59"
      },
      "execution_count": 20,
      "outputs": [
        {
          "output_type": "stream",
          "name": "stdout",
          "text": [
            "price is 10.00 and tax is5.00 \n"
          ]
        }
      ]
    }
  ]
}